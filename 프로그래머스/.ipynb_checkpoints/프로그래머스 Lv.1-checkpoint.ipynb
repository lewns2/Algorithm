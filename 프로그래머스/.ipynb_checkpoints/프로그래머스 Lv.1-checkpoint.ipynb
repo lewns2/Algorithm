{
 "cells": [
  {
   "cell_type": "code",
   "execution_count": null,
   "metadata": {},
   "outputs": [],
   "source": [
    "# 체육복\n",
    "\n",
    "def solution(n, lost, reserve):\n",
    "    answer = 0\n",
    "    \n",
    "    set_reserve = list(set(reserve)-set(lost))\n",
    "    set_lost = list(set(lost)-set(reserve))\n",
    "    \n",
    "    for i in set_reserve:\n",
    "        for j in set_lost:\n",
    "            \n",
    "            if j == i+1 or j == i-1:\n",
    "                set_lost.remove(j)\n",
    "\n",
    "                \n",
    "    answer = n - len(set_lost)\n",
    "    \n",
    "    \n",
    "    return answer"
   ]
  },
  {
   "cell_type": "code",
   "execution_count": null,
   "metadata": {},
   "outputs": [],
   "source": [
    "# 크레인 인형뽑기 게임\n",
    "\n",
    "def solution(board, moves):\n",
    "    answer = 0\n",
    "    result = []\n",
    "    # 1은 각 배열의 처음\n",
    "    \n",
    "    for m in moves:\n",
    "        for i in board:\n",
    "            if i[m-1] != 0: # 다 집어 넣네..\n",
    "                result.append(i[m-1])\n",
    "                i[m-1] = 0\n",
    "                \n",
    "    print(result)\n",
    "                \n",
    "    return answer\n"
   ]
  },
  {
   "cell_type": "code",
   "execution_count": null,
   "metadata": {},
   "outputs": [],
   "source": [
    "# 같은 숫자는 싫어\n",
    "\n",
    "def solution(arr):\n",
    "    answer = []\n",
    "    a = []\n",
    "    for i in range(len(arr)-1):\n",
    "        if arr[i] == arr[i+1]:\n",
    "            a.append(i) # 삭제할 인덱스 값(연속)\n",
    "\n",
    "    \n",
    "    \n",
    "    for i in range(len(a)):\n",
    "        del arr[a[i]]\n",
    "        \n",
    "    \n",
    "    answer = arr\n",
    "    \n",
    "    return answer"
   ]
  },
  {
   "cell_type": "code",
   "execution_count": null,
   "metadata": {},
   "outputs": [],
   "source": [
    "# 두 정수 사이의 합\n",
    "\n",
    "def solution(a, b):\n",
    "    answer = 0\n",
    "    num = []\n",
    "    num.append(a)\n",
    "    num.append(b)\n",
    "    \n",
    "    for i in range(min(num),max(num)+1):\n",
    "        answer += i\n",
    "    return answer"
   ]
  },
  {
   "cell_type": "code",
   "execution_count": null,
   "metadata": {},
   "outputs": [],
   "source": [
    "# 폰켓몬\n",
    "\n",
    "def solution(nums):\n",
    "    answer = 0\n",
    "    total = len(nums)//2\n",
    "    \n",
    "    new = set(nums)\n",
    "    \n",
    "    if len(new) < total:\n",
    "        answer = len(new)\n",
    "    else:\n",
    "        answer = total\n",
    "        \n",
    "    return answer"
   ]
  },
  {
   "cell_type": "code",
   "execution_count": null,
   "metadata": {},
   "outputs": [],
   "source": [
    "# 문자열 내 p와 y의 개수\n",
    "\n",
    "def solution(s):\n",
    "    answer = True\n",
    "    \n",
    "    s = s.lower()\n",
    "    \n",
    "    s = [x for x in s]\n",
    "    cnt_p = 0\n",
    "    cnt_y = 0\n",
    "    \n",
    "    for i in s:\n",
    "        if i == 'p':\n",
    "            cnt_p += 1\n",
    "        elif i == 'y':\n",
    "            cnt_y += 1\n",
    "            \n",
    "    if cnt_p == cnt_y:\n",
    "        return True\n",
    "    \n",
    "    elif cnt_p == 0 and cnt_y == 0:\n",
    "        return True\n",
    "    \n",
    "    else:\n",
    "        return False"
   ]
  },
  {
   "cell_type": "code",
   "execution_count": null,
   "metadata": {},
   "outputs": [],
   "source": [
    "# 문자열 내 마음대로 정렬하기\n",
    "\n",
    "def solution(strings, n):\n",
    "    answer = []\n",
    "    \n",
    "    answer = sorted(sorted(strings), key=lambda x:x[n])\n",
    "    \n",
    "    return answer"
   ]
  },
  {
   "cell_type": "code",
   "execution_count": null,
   "metadata": {},
   "outputs": [],
   "source": [
    "# 문자열 다루기 기본\n",
    "\n",
    "def solution(s):\n",
    "    answer = True\n",
    "    if len(s) == 4 or len(s) == 6:\n",
    "        if s.isdigit():\n",
    "            return True\n",
    "        else:\n",
    "            return False\n",
    "    else:\n",
    "        return False"
   ]
  },
  {
   "cell_type": "code",
   "execution_count": null,
   "metadata": {},
   "outputs": [],
   "source": [
    "# 서울에서 김서방 찾기\n",
    "\n",
    "def solution(seoul):\n",
    "    answer = ''\n",
    "    \n",
    "    for i in range(len(seoul)):\n",
    "        if seoul[i] == \"Kim\":\n",
    "            return \"김서방은\" +\" \"+ str(i) + \"에 있다\""
   ]
  },
  {
   "cell_type": "code",
   "execution_count": null,
   "metadata": {},
   "outputs": [],
   "source": [
    "## 중복 제거 방법(차집합)\n",
    "\n",
    "set_reserve = list(set(reserve)-set(lost))\n",
    "set_lost = list(set(lost)-set(reserve))\n",
    "\n",
    "\n",
    "\n",
    "_reserve = [r for r in reserve if r not in lost]\n",
    "_lost = [l for l in lost if l not in reserve]\n"
   ]
  }
 ],
 "metadata": {
  "kernelspec": {
   "display_name": "Python 3",
   "language": "python",
   "name": "python3"
  },
  "language_info": {
   "codemirror_mode": {
    "name": "ipython",
    "version": 3
   },
   "file_extension": ".py",
   "mimetype": "text/x-python",
   "name": "python",
   "nbconvert_exporter": "python",
   "pygments_lexer": "ipython3",
   "version": "3.7.4"
  }
 },
 "nbformat": 4,
 "nbformat_minor": 2
}
