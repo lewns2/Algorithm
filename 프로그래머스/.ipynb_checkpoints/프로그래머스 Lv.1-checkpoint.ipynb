{
 "cells": [
  {
   "cell_type": "code",
   "execution_count": null,
   "metadata": {},
   "outputs": [],
   "source": [
    "# 체육복\n",
    "\n",
    "def solution(n, lost, reserve):\n",
    "    answer = 0\n",
    "    \n",
    "    set_reserve = list(set(reserve)-set(lost))\n",
    "    set_lost = list(set(lost)-set(reserve))\n",
    "    \n",
    "    for i in set_reserve:\n",
    "        for j in set_lost:\n",
    "            \n",
    "            if j == i+1 or j == i-1:\n",
    "                set_lost.remove(j)\n",
    "\n",
    "                \n",
    "    answer = n - len(set_lost)\n",
    "    \n",
    "    \n",
    "    return answer"
   ]
  },
  {
   "cell_type": "code",
   "execution_count": null,
   "metadata": {},
   "outputs": [],
   "source": [
    "# 크레인 인형뽑기 게임\n",
    "\n",
    "def solution(board, moves):\n",
    "    answer = 0\n",
    "    result = []\n",
    "    # 1은 각 배열의 처음\n",
    "    \n",
    "    for m in moves:\n",
    "        for i in board:\n",
    "            if i[m-1] != 0: # 다 집어 넣네..\n",
    "                result.append(i[m-1])\n",
    "                i[m-1] = 0\n",
    "                \n",
    "    print(result)\n",
    "                \n",
    "    return answer\n"
   ]
  },
  {
   "cell_type": "code",
   "execution_count": null,
   "metadata": {},
   "outputs": [],
   "source": [
    "# 같은 숫자는 싫어\n",
    "\n",
    "def solution(arr):\n",
    "    answer = []\n",
    "    a = []\n",
    "    for i in range(len(arr)-1):\n",
    "        if arr[i] == arr[i+1]:\n",
    "            a.append(i) # 삭제할 인덱스 값(연속)\n",
    "\n",
    "    \n",
    "    \n",
    "    for i in range(len(a)):\n",
    "        del arr[a[i]]\n",
    "        \n",
    "    \n",
    "    answer = arr\n",
    "    \n",
    "    return answer"
   ]
  },
  {
   "cell_type": "code",
   "execution_count": null,
   "metadata": {},
   "outputs": [],
   "source": [
    "## 중복 제거 방법(차집합)\n",
    "\n",
    "set_reserve = list(set(reserve)-set(lost))\n",
    "set_lost = list(set(lost)-set(reserve))\n",
    "\n",
    "\n",
    "\n",
    "_reserve = [r for r in reserve if r not in lost]\n",
    "_lost = [l for l in lost if l not in reserve]\n"
   ]
  }
 ],
 "metadata": {
  "kernelspec": {
   "display_name": "Python 3",
   "language": "python",
   "name": "python3"
  },
  "language_info": {
   "codemirror_mode": {
    "name": "ipython",
    "version": 3
   },
   "file_extension": ".py",
   "mimetype": "text/x-python",
   "name": "python",
   "nbconvert_exporter": "python",
   "pygments_lexer": "ipython3",
   "version": "3.7.4"
  }
 },
 "nbformat": 4,
 "nbformat_minor": 2
}
