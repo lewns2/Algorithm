{
 "cells": [
  {
   "cell_type": "code",
   "execution_count": null,
   "metadata": {},
   "outputs": [],
   "source": [
    "# Part 1. 기본기"
   ]
  },
  {
   "cell_type": "code",
   "execution_count": null,
   "metadata": {},
   "outputs": [],
   "source": [
    "# 약수 구하기\n",
    "\n",
    "p, q = map(int, input().split())\n",
    "\n",
    "result = []\n",
    "for i in range(1, p+1):\n",
    "\n",
    "    if p%i == 0:\n",
    "        result.append(p//i)\n",
    "\n",
    "result.sort()\n",
    "if len(result) < q :\n",
    "    print(0)\n",
    "else:\n",
    "    print(result[q-1])"
   ]
  },
  {
   "cell_type": "code",
   "execution_count": null,
   "metadata": {},
   "outputs": [],
   "source": [
    "# 이진수(3460) * \n",
    "\n",
    "# 10진수 -> 2진수 변환 : bin(10진수) \n",
    "# 2진수 -> 10진수 변환 : int('2진수값', 2)\n",
    "\n",
    "T = int(input())\n",
    "for _ in range(T):\n",
    "   N = bin(int(input()))[2:]\n",
    "   for i in range(len(N)):\n",
    "       if N[-i-1] == '1':\n",
    "           print(i, end = ' ')\n",
    "\n"
   ]
  },
  {
   "cell_type": "code",
   "execution_count": null,
   "metadata": {},
   "outputs": [],
   "source": [
    "# 최소, 최대\n",
    "\n",
    "n = int(input())\n",
    "\n",
    "num = list(map(int, input().split()))\n",
    "\n",
    "print(min(num), max(num))"
   ]
  },
  {
   "cell_type": "code",
   "execution_count": null,
   "metadata": {},
   "outputs": [],
   "source": [
    "# 지능형 기차 2\n",
    "\n",
    "result = []\n",
    "num = 0\n",
    "\n",
    "for i in range(10):\n",
    "    x, y = map(int, input().split())\n",
    "    num = num + y - x\n",
    "    result.append(num)\n",
    "\n",
    "print(max(result))"
   ]
  },
  {
   "cell_type": "code",
   "execution_count": null,
   "metadata": {},
   "outputs": [],
   "source": [
    "# 피보나치 수 5\n",
    "\n",
    "n = int(input())\n",
    "\n",
    "result = [0, 1]\n",
    "num = 0\n",
    "for i in range(n):\n",
    "    num = result[i] + result[i+1]\n",
    "    result.append(num)\n",
    "\n",
    "print(result[n])"
   ]
  },
  {
   "cell_type": "code",
   "execution_count": null,
   "metadata": {},
   "outputs": [],
   "source": [
    "# 일곱 난쟁이 * \n",
    "\n",
    "total = sum(arr)\n",
    "\n",
    "for i in range(len(arr)):\n",
    "    for j in range(i+1, len(arr)):\n",
    "        if (total - arr[i] - arr[j]) == 100:\n",
    "            one = arr[i]\n",
    "            two = arr[j]\n",
    "arr.remove(one)\n",
    "arr.remove(two)\n",
    "print(arr)\n",
    "\n",
    "# 오답 : list index out of range / arr.remove(arr[j])\n",
    "\n",
    "# 해결 방안 : for문 밖에서 제거 처리\n",
    "\n",
    "total = sum(arr)\n",
    "\n",
    "for i in range(len(arr)):\n",
    "    for j in range(i+1, len(arr)):\n",
    "        if (total - arr[i] - arr[j]) == 100:\n",
    "            arr.remove(arr[i])\n",
    "            arr.remove(arr[j])\n",
    "print(arr)"
   ]
  },
  {
   "cell_type": "code",
   "execution_count": null,
   "metadata": {},
   "outputs": [],
   "source": [
    "# 최대 공약수와 최소공배수\n",
    "\n",
    "x, y = map(int, input().split())\n",
    "x_num = []\n",
    "y_num = []\n",
    "num = []\n",
    "\n",
    "for i in range(1, x+1):\n",
    "    if x%i == 0:\n",
    "        x_num.append(i)\n",
    "    if y%i == 0:\n",
    "        y_num.append(i)\n",
    "\n",
    "num = [n for n in x_num if n in y_num]\n",
    "\n",
    "answer = max(num)\n",
    "\n",
    "# 유클리드 호제법이란게 있단다..."
   ]
  },
  {
   "cell_type": "code",
   "execution_count": null,
   "metadata": {},
   "outputs": [],
   "source": [
    "# N번째 큰 수(2693)\n",
    "\n",
    "t = int(input())\n",
    "\n",
    "for i in range(t):\n",
    "    A = list(map(int, input().split()))\n",
    "    A.sort(reverse=True)\n",
    "    print(A[2])"
   ]
  },
  {
   "cell_type": "code",
   "execution_count": null,
   "metadata": {},
   "outputs": [],
   "source": [
    "# 소수 찾기 *\n",
    "\n",
    "n = list(map(int, input().split()))\n",
    "cnt = 0\n",
    "for i in n:\n",
    "    for j in range(2, i+1):\n",
    "        if i%j == 0:\n",
    "            cnt += 1\n",
    "\n",
    "\n",
    "print(cnt)"
   ]
  },
  {
   "cell_type": "code",
   "execution_count": null,
   "metadata": {},
   "outputs": [],
   "source": [
    "# 쉽게 푸는 문제\n",
    "\n",
    "a, b = map(int, input().split())\n",
    "\n",
    "num = []\n",
    "\n",
    "for i in range(b):\n",
    "    for j in range(i+1):\n",
    "        num.append(i+1)\n",
    "answer = num[a-1:b]\n",
    "print(sum(answer))\n",
    "\n",
    "# * 맞긴 맞는데 불필요하게 리스트가 많이 나오는 건 아닌지..."
   ]
  },
  {
   "cell_type": "code",
   "execution_count": null,
   "metadata": {},
   "outputs": [],
   "source": [
    "# 소수 * 런타임 에러\n",
    "\n",
    "a, b, n = map(int, input().split())\n",
    "\n",
    "result = a/b - a//b\n",
    "\n",
    "for i in range(n-1):\n",
    "    x = result*10\n",
    "    result = x\n",
    "\n",
    "a = int(x * 10)\n",
    "b = int(x) * 10\n",
    "\n",
    "print(a, b, a-b)"
   ]
  }
 ],
 "metadata": {
  "kernelspec": {
   "display_name": "Python 3",
   "language": "python",
   "name": "python3"
  },
  "language_info": {
   "codemirror_mode": {
    "name": "ipython",
    "version": 3
   },
   "file_extension": ".py",
   "mimetype": "text/x-python",
   "name": "python",
   "nbconvert_exporter": "python",
   "pygments_lexer": "ipython3",
   "version": "3.7.4"
  }
 },
 "nbformat": 4,
 "nbformat_minor": 2
}
