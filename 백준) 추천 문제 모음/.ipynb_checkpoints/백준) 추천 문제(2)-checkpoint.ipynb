{
 "cells": [
  {
   "cell_type": "code",
   "execution_count": null,
   "metadata": {},
   "outputs": [],
   "source": [
    "# Part 2. 뼈대 문제(기본 알고리즘)"
   ]
  },
  {
   "cell_type": "code",
   "execution_count": null,
   "metadata": {},
   "outputs": [],
   "source": [
    "# 연산자 끼워 넣기(재귀 탐색)\n",
    "\n"
   ]
  },
  {
   "cell_type": "code",
   "execution_count": null,
   "metadata": {},
   "outputs": [],
   "source": [
    "# 괄호의 값(스택)"
   ]
  },
  {
   "cell_type": "code",
   "execution_count": null,
   "metadata": {},
   "outputs": [],
   "source": [
    "# 빗물(시뮬레이션)"
   ]
  },
  {
   "cell_type": "code",
   "execution_count": null,
   "metadata": {},
   "outputs": [],
   "source": [
    "# 가르침(완전탐색)"
   ]
  },
  {
   "cell_type": "code",
   "execution_count": null,
   "metadata": {},
   "outputs": [],
   "source": [
    "# 멀티탭 스케줄링(그리디) * 아직 미완성\n",
    "\n",
    "n, k = map(int, input().split())\n",
    "name = list(map(int, input().split()))\n",
    "\n",
    "# make 리스트 len(name)/n 짝수 , 홀수 +1\n",
    "# 앞 리스트 뒤 리스트 비교, 없으면 교체 후 cnt +1\n",
    "\n",
    "A = len(name) // n\n",
    "result = []\n",
    "\n",
    "\n",
    "print(A)\n",
    "\n",
    "if A % n == 0:\n",
    "    for i in range(A):\n",
    "        makeList = []\n",
    "        i = 0\n",
    "        i += n\n",
    "\n",
    "        for j in range(n):\n",
    "            makeList.append(name[i])\n",
    "            i += 1\n",
    "        result.append(makeList)\n",
    "\n",
    "\n",
    "\n",
    "else:\n",
    "    for i in range(A + 1):\n",
    "        makeList = []\n",
    "        i = 0\n",
    "        i += n\n",
    "\n",
    "        for j in range(n):\n",
    "            makeList.append(name[i])\n",
    "            i += 1\n",
    "        result.append(makeList)\n",
    "\n",
    "print(result)\n"
   ]
  },
  {
   "cell_type": "code",
   "execution_count": null,
   "metadata": {},
   "outputs": [],
   "source": [
    "# 부분합(투 포인트)"
   ]
  },
  {
   "cell_type": "code",
   "execution_count": null,
   "metadata": {},
   "outputs": [],
   "source": [
    "# 최소 비용 구하기(벨만포드)"
   ]
  },
  {
   "cell_type": "code",
   "execution_count": null,
   "metadata": {},
   "outputs": [],
   "source": [
    "# 최소 스패닝 트리(Prime, Kruskal)"
   ]
  },
  {
   "cell_type": "code",
   "execution_count": null,
   "metadata": {},
   "outputs": [],
   "source": [
    "# 부분 문자열(KMP)(16916)\n",
    "\n",
    "#KMP 알고리즘(문자열 찾기)\n",
    "\n",
    "def makeTable(P):  # P는 패턴\n",
    "    lp = len(P)\n",
    "    Table = [0] * lp  # 패턴의 길이와 같은크기의 테이블 생성\n",
    "    i = 0  # i를 사용하여 테이블 값을 갱신한다\n",
    "    for j in range(1, lp):\n",
    "        while i > 0 and P[i] != P[j]:  # i와 j가 다르면 i는 i-1의 테이블값 인덱스로 돌아간다\n",
    "            i = Table[i - 1]  # 왜?->현재의 i에서 j와 다르니 i가 +1되었던것을 되돌아가서\n",
    "            # i-1에서의 테이블값 인덱스에서 다시 j와 비교해준다\n",
    "            # 테이블에는 최대 공통 부분들이 있어서 돌아갈지점을 계속 갱신해주다가\n",
    "            # 0까지 가면 0이 된다.0을 저장하고 다음 j로 넘어간다\n",
    "\n",
    "        if P[i] == P[j]:  # 만약 같으면 i값을 1더해주고 table값에 넣는다.\n",
    "            i += 1  # i,j둘다 1씩 증가한다\n",
    "            Table[j] = i\n",
    "    return Table\n",
    "\n",
    "def kmp(s, P):\n",
    "    Table = makeTable(P)\n",
    "    j = 0\n",
    "    for i in range(len(s)):\n",
    "        while j > 0 and s[i] != P[j]:\n",
    "            j = Table[j - 1]\n",
    "        if s[i] == P[j]:\n",
    "            if j == len(P) - 1:\n",
    "                return True\n",
    "            else:\n",
    "                j += 1\n",
    "    return False\n",
    "\n",
    "\n",
    "if __name__ == \"__main__\":\n",
    "    s = input()\n",
    "    P = input()\n",
    "    if kmp(s, P):\n",
    "        print('1')\n",
    "    else:\n",
    "        print('0')"
   ]
  },
  {
   "cell_type": "code",
   "execution_count": null,
   "metadata": {},
   "outputs": [],
   "source": [
    "# 줄 세우기(위상 정렬)"
   ]
  }
 ],
 "metadata": {
  "kernelspec": {
   "display_name": "Python 3",
   "language": "python",
   "name": "python3"
  },
  "language_info": {
   "codemirror_mode": {
    "name": "ipython",
    "version": 3
   },
   "file_extension": ".py",
   "mimetype": "text/x-python",
   "name": "python",
   "nbconvert_exporter": "python",
   "pygments_lexer": "ipython3",
   "version": "3.7.4"
  }
 },
 "nbformat": 4,
 "nbformat_minor": 2
}
