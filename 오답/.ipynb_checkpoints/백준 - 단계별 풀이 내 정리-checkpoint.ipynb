{
 "cells": [
  {
   "cell_type": "code",
   "execution_count": null,
   "metadata": {},
   "outputs": [],
   "source": [
    "# 백준 - 곱셈(2588)\n",
    "\n",
    "a = int(input())\n",
    "\n",
    "# 인덱스[] 하기 위해 문자열 그대로 둠\n",
    "b = input()\n",
    "\n",
    "# 문자열을 int로 만들기!\n",
    "\n",
    "print(a*int(b[2]), a*int(b[1]), a*int(b[0]), a*int(b))"
   ]
  },
  {
   "cell_type": "code",
   "execution_count": null,
   "metadata": {},
   "outputs": [],
   "source": [
    "# 백준 - 빠른 A+B(15552)\n",
    "\n",
    "\n",
    "import sys # 반복문으로 여러줄 입력 받을 때, 시간 초과 방지를 위함\n",
    "\n",
    "t = int(sys.stdin.readline())\n",
    "\n",
    "for i in range(t):\n",
    "    a, b = map(int, sys.stdin.readline().split())\n",
    "    print(a+b)\n",
    "\n"
   ]
  },
  {
   "cell_type": "code",
   "execution_count": null,
   "metadata": {},
   "outputs": [],
   "source": [
    "# 백준 - 기찍 N(2742)\n",
    "\n",
    "n = int(input())\n",
    "\n",
    "for i in range(n, 0, -1): # 범위 : n~0 / -1씩 감소\n",
    "    print(i)"
   ]
  },
  {
   "cell_type": "code",
   "execution_count": null,
   "metadata": {},
   "outputs": [],
   "source": []
  },
  {
   "cell_type": "code",
   "execution_count": null,
   "metadata": {},
   "outputs": [],
   "source": []
  },
  {
   "cell_type": "code",
   "execution_count": null,
   "metadata": {},
   "outputs": [],
   "source": []
  },
  {
   "cell_type": "code",
   "execution_count": null,
   "metadata": {},
   "outputs": [],
   "source": []
  },
  {
   "cell_type": "code",
   "execution_count": null,
   "metadata": {},
   "outputs": [],
   "source": []
  }
 ],
 "metadata": {
  "kernelspec": {
   "display_name": "Python 3",
   "language": "python",
   "name": "python3"
  },
  "language_info": {
   "codemirror_mode": {
    "name": "ipython",
    "version": 3
   },
   "file_extension": ".py",
   "mimetype": "text/x-python",
   "name": "python",
   "nbconvert_exporter": "python",
   "pygments_lexer": "ipython3",
   "version": "3.7.4"
  }
 },
 "nbformat": 4,
 "nbformat_minor": 2
}
