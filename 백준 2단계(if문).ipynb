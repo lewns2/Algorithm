{
 "cells": [
  {
   "cell_type": "code",
   "execution_count": 1,
   "metadata": {},
   "outputs": [],
   "source": [
    "#백준 2단계:if문"
   ]
  },
  {
   "cell_type": "code",
   "execution_count": 19,
   "metadata": {},
   "outputs": [
    {
     "name": "stdout",
     "output_type": "stream",
     "text": [
      "1 2\n",
      "<\n"
     ]
    }
   ],
   "source": [
    "a, b = map(int, input().split()) #정수 입력 받기\n",
    "\n",
    "if(a>b):\n",
    "    print('>')\n",
    "elif(a<b):\n",
    "    print('<')\n",
    "else:\n",
    "    print('==')"
   ]
  },
  {
   "cell_type": "code",
   "execution_count": 29,
   "metadata": {},
   "outputs": [
    {
     "name": "stdout",
     "output_type": "stream",
     "text": [
      "90\n",
      "A\n"
     ]
    }
   ],
   "source": [
    "시험점수 = int(input())\n",
    "if(100>=시험점수>=90):\n",
    "    print('A')\n",
    "elif(90>시험점수>=80):\n",
    "    print('B')\n",
    "elif(80>시험점수>=70):\n",
    "    print('C')\n",
    "elif(70>시험점수>=60):\n",
    "    print('D')\n",
    "else:\n",
    "    print('F')\n",
    "        "
   ]
  },
  {
   "cell_type": "code",
   "execution_count": 39,
   "metadata": {},
   "outputs": [
    {
     "name": "stdout",
     "output_type": "stream",
     "text": [
      "2012\n",
      "1\n"
     ]
    }
   ],
   "source": [
    "#몫 구하기(/), 나머지 구하기(%)\n",
    "year=int(input())\n",
    "\n",
    "if(year%4 ==0 and year%100 !=0 or year%400 ==0):\n",
    "    print('1')\n",
    "else:\n",
    "    print('0')"
   ]
  },
  {
   "cell_type": "code",
   "execution_count": 46,
   "metadata": {},
   "outputs": [
    {
     "name": "stdout",
     "output_type": "stream",
     "text": [
      "9\n",
      "-13\n",
      "4\n"
     ]
    }
   ],
   "source": [
    "#문제 똑바로 읽기(제시하는 바를 명확히 이해)\n",
    "x = int(input())\n",
    "y = int(input())\n",
    "\n",
    "if(x>0 and y>0):\n",
    "    print('1')\n",
    "elif(x<0 and y>0):\n",
    "    print('2')    \n",
    "elif(x<0 and y<0):\n",
    "    print('3')\n",
    "elif(x>0 and y<0):\n",
    "    print('4')"
   ]
  },
  {
   "cell_type": "code",
   "execution_count": 55,
   "metadata": {},
   "outputs": [
    {
     "name": "stdout",
     "output_type": "stream",
     "text": [
      "23 40\n",
      "22 55\n"
     ]
    }
   ],
   "source": [
    "#다시 한번 풀어보기\n",
    "H, M = map(int, input().split())\n",
    "if(M>=45):\n",
    "    print(H,M-45)\n",
    "elif(45>M):\n",
    "    if(H==0):\n",
    "        print(23,M+15)\n",
    "    else:\n",
    "        print(H-1,M+15)"
   ]
  }
 ],
 "metadata": {
  "kernelspec": {
   "display_name": "Python 3",
   "language": "python",
   "name": "python3"
  },
  "language_info": {
   "codemirror_mode": {
    "name": "ipython",
    "version": 3
   },
   "file_extension": ".py",
   "mimetype": "text/x-python",
   "name": "python",
   "nbconvert_exporter": "python",
   "pygments_lexer": "ipython3",
   "version": "3.6.10"
  }
 },
 "nbformat": 4,
 "nbformat_minor": 4
}
