{
 "cells": [
  {
   "cell_type": "code",
   "execution_count": 9,
   "metadata": {},
   "outputs": [
    {
     "name": "stdout",
     "output_type": "stream",
     "text": [
      "5\n",
      "3 1 4 3 2\n",
      "32\n"
     ]
    }
   ],
   "source": [
    "# 백준 - ATM(11399)\n",
    "n = int(input())\n",
    "\n",
    "p = list(map(int, input().split()))\n",
    "\n",
    "num = 0\n",
    "p.sort()\n",
    "\n",
    "for i in range(n):          #반복 : 덧셈의 횟수\n",
    "    for j in range(0,i+1): # ???\n",
    "        num += p[j]\n",
    "    \n",
    "print(num)"
   ]
  },
  {
   "cell_type": "code",
   "execution_count": 35,
   "metadata": {},
   "outputs": [
    {
     "name": "stdout",
     "output_type": "stream",
     "text": [
      "10 4200\n",
      "1\n",
      "5\n",
      "10\n",
      "50\n",
      "100\n",
      "500\n",
      "1000\n",
      "5000\n",
      "10000\n",
      "50000\n",
      "[50000, 10000, 5000, 1000, 500, 100, 50, 10, 5, 1]\n",
      "6\n"
     ]
    }
   ],
   "source": [
    "# 백준 - 동전 0(11047)\n",
    "n, k = map(int, input().split())\n",
    "\n",
    "coin = []\n",
    "\n",
    "for i in range(n):\n",
    "    coin.append(int(input()))\n",
    "\n",
    "result = 0 \n",
    "\n",
    "coin.sort(reverse=True)\n",
    "\n",
    "for i in coin:\n",
    "    result +=k//i\n",
    "    k%=i\n",
    "\n",
    "print(result)"
   ]
  },
  {
   "cell_type": "code",
   "execution_count": 38,
   "metadata": {},
   "outputs": [],
   "source": [
    "# 백준 - 회의실 배정(1931) : X"
   ]
  },
  {
   "cell_type": "code",
   "execution_count": 42,
   "metadata": {},
   "outputs": [
    {
     "name": "stdout",
     "output_type": "stream",
     "text": [
      "380\n",
      "4\n"
     ]
    }
   ],
   "source": [
    "# 백준 - 거스름돈(5585)\n",
    "\n",
    "n = int(input())\n",
    "\n",
    "k = 1000 - n\n",
    "\n",
    "array = [500, 100, 50, 10, 5, 1]\n",
    "\n",
    "count = 0\n",
    "\n",
    "for coin in array:\n",
    "    count += k//coin\n",
    "    k %= coin \n",
    "\n",
    "print(count)"
   ]
  },
  {
   "cell_type": "code",
   "execution_count": null,
   "metadata": {},
   "outputs": [],
   "source": []
  }
 ],
 "metadata": {
  "kernelspec": {
   "display_name": "Python 3",
   "language": "python",
   "name": "python3"
  }
 },
 "nbformat": 4,
 "nbformat_minor": 2
}
