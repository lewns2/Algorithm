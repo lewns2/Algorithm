{
 "cells": [
  {
   "cell_type": "code",
   "execution_count": null,
   "metadata": {},
   "outputs": [],
   "source": [
    "# DFS(깊이 우선 탐색)"
   ]
  },
  {
   "cell_type": "code",
   "execution_count": null,
   "metadata": {},
   "outputs": [],
   "source": [
    "# 재귀를 이용한 DFS 구현 수도코드\n",
    "\n",
    "DFS(G, v)\n",
    "    label v as discovered\n",
    "    for all directed edges from v to w that are in G.adjacentEdges(v) do\n",
    "        if vertex w is not labeled as discovered then\n",
    "            recursively call DFS(G, w)"
   ]
  },
  {
   "cell_type": "code",
   "execution_count": null,
   "metadata": {},
   "outputs": [],
   "source": [
    "def recursive_dfs(v, discoverd = []):\n",
    "    discovered.append(v)\n",
    "    for w in graph[v]:\n",
    "        if w not in discovered:\n",
    "            discovered = recursive_dfs(w, discovered)\n",
    "    return discovered"
   ]
  },
  {
   "cell_type": "code",
   "execution_count": null,
   "metadata": {},
   "outputs": [],
   "source": [
    "# 섬의 갟수(리트코드 200)\n",
    "\n",
    "class Solution:\n",
    "    def numIslands(self, grid: List[List[str]]) -> int:\n",
    "                    \n",
    "        def dfs(i, j):\n",
    "            # 육지(1)가 아니면 종료 = 범위 벗어나면 종료 + '1'인 것만 보겠다\n",
    "            if i< 0 or i >= len(grid) or j < 0 or j>=len(grid[0]) or grid[i][j] != '1':\n",
    "                return \n",
    "            \n",
    "            # 방문한 곳 표시\n",
    "            grid[i][j] = '#'\n",
    "            \n",
    "            # 동서남북 탐색\n",
    "            dfs(i+1, j)\n",
    "            dfs(i-1, j)\n",
    "            dfs(i, j+1)\n",
    "            dfs(i, j-1)\n",
    "            \n",
    "        count = 0\n",
    "        \n",
    "        for i in range(len(grid)):\n",
    "            for j in range(len(grid[0])):\n",
    "                if grid[i][j] == '1':\n",
    "                    dfs(i, j)\n",
    "                    \n",
    "                    # 모든 육지 탐색 후 카운트 1 증가\n",
    "                    count += 1\n",
    "        return grid\n",
    "            \n",
    "            "
   ]
  }
 ],
 "metadata": {
  "kernelspec": {
   "display_name": "Python 3",
   "language": "python",
   "name": "python3"
  },
  "language_info": {
   "codemirror_mode": {
    "name": "ipython",
    "version": 3
   },
   "file_extension": ".py",
   "mimetype": "text/x-python",
   "name": "python",
   "nbconvert_exporter": "python",
   "pygments_lexer": "ipython3",
   "version": "3.6.10"
  }
 },
 "nbformat": 4,
 "nbformat_minor": 4
}
