{
 "cells": [
  {
   "cell_type": "code",
   "execution_count": null,
   "metadata": {},
   "outputs": [],
   "source": [
    "# 유효한 팰린드롬 * \n",
    "\n",
    "class Solution:\n",
    "    def isPalindrome(self, s: str) -> bool:\n",
    "        strs = []\n",
    "        \n",
    "        # 영문자, 숫자 판별\n",
    "        for char in s:\n",
    "            if char.isalnum():\n",
    "                strs.append(char)\n",
    "        \n",
    "        # 맨 맢의 값과 뒤 값 비교\n",
    "        while len(strs) > 1:\n",
    "            if strs.pop(0) != strs.pop():\n",
    "                return False"
   ]
  },
  {
   "cell_type": "code",
   "execution_count": null,
   "metadata": {},
   "outputs": [],
   "source": [
    "# 문자열 뒤집기\n",
    "\n",
    "# 투 포인터로 풀어보기\n",
    "\n",
    "class Solution:\n",
    "    def reverseString(self, s: List[str]) -> None:\n",
    "        \n",
    "        left = 0\n",
    "        right = len(s) -1 \n",
    "        \n",
    "        for i in range(len(s)//2):\n",
    "            s[left], s[right] = s[right], s[left]\n",
    "            left += 1\n",
    "            right -= 1"
   ]
  },
  {
   "cell_type": "code",
   "execution_count": null,
   "metadata": {},
   "outputs": [],
   "source": [
    "# 로그 파일 재정렬 * \n",
    "\n",
    "class Solution:\n",
    "    def reorderLogFiles(self, logs: List[str]) -> List[str]:\n",
    "        letter = []\n",
    "        digit = []\n",
    "        \n",
    "        for log in logs:\n",
    "            if log.split()[1].isdigit():\n",
    "                digit.append(log)\n",
    "                \n",
    "            else:\n",
    "                letter.append(log)\n",
    "                \n",
    "        letter.sort(key=lambda x: (x.split()[1:], x.split()[0]))\n",
    "        \n",
    "        return letter + digit"
   ]
  },
  {
   "cell_type": "code",
   "execution_count": null,
   "metadata": {},
   "outputs": [],
   "source": [
    "# 가장 흔한 단어장 흔한 단어 **"
   ]
  },
  {
   "cell_type": "code",
   "execution_count": null,
   "metadata": {},
   "outputs": [],
   "source": [
    "# 그룹 애너그램\n",
    "\n"
   ]
  },
  {
   "cell_type": "code",
   "execution_count": 10,
   "metadata": {},
   "outputs": [
    {
     "name": "stdout",
     "output_type": "stream",
     "text": [
      "[2, 5]\n",
      "7\n"
     ]
    }
   ],
   "source": [
    "a = [1,2,5,4,8,6]\n",
    "\n",
    "x = a[1:3]\n",
    "print(x)\n",
    "total = sum(x)\n",
    "print(total)"
   ]
  },
  {
   "cell_type": "code",
   "execution_count": null,
   "metadata": {},
   "outputs": [],
   "source": []
  }
 ],
 "metadata": {
  "kernelspec": {
   "display_name": "Python 3",
   "language": "python",
   "name": "python3"
  },
  "language_info": {
   "codemirror_mode": {
    "name": "ipython",
    "version": 3
   },
   "file_extension": ".py",
   "mimetype": "text/x-python",
   "name": "python",
   "nbconvert_exporter": "python",
   "pygments_lexer": "ipython3",
   "version": "3.7.4"
  }
 },
 "nbformat": 4,
 "nbformat_minor": 2
}
