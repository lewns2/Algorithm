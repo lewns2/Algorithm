{
 "cells": [
  {
   "cell_type": "code",
   "execution_count": null,
   "metadata": {},
   "outputs": [],
   "source": [
    "# 해시 테이블 만들기\n",
    "hash_table = list([0 for i in range(10)])\n",
    "\n",
    "# 해시 함수 만들기\n",
    "def hash_func(key):\n",
    "    return key % 5\n",
    "\n",
    "# 테이블에 저장\n",
    "data1 = 'andy'\n",
    "data2 = 'dave'\n",
    "\n",
    "# 예시\n",
    "def storage_data(data, value):\n",
    "    key = ord(data[0])\n",
    "    hash_address = hash_func(key)\n",
    "    hash_table[hash_address] = value\n",
    "\n",
    "# 테이블에서 특정 주소의 데이터 가져오기\n",
    "def get_data(data):\n",
    "    key = ord(data[0])\n",
    "    hash_address = hash_func(key)\n",
    "    return hash_table[hash_address]"
   ]
  },
  {
   "cell_type": "code",
   "execution_count": null,
   "metadata": {},
   "outputs": [],
   "source": [
    "# 보석과 돌 (리트코드 -706)\n",
    "\n",
    "J = str(input())\n",
    "S = str(input())\n",
    "\n",
    "freqs = {}\n",
    "\n",
    "# 돌(S)의 빈도수\n",
    "for char in S:\n",
    "    if char not in freqs:\n",
    "        freqs[char] = 1\n",
    "    else:\n",
    "        freqs[char] += 1\n",
    "\n",
    "# 보석(J)의 빈도수\n",
    "cnt = 0\n",
    "for char in J:\n",
    "    if char in freqs:\n",
    "        cnt += freqs[char]\n",
    "\n",
    "print(cnt)\n"
   ]
  },
  {
   "cell_type": "code",
   "execution_count": null,
   "metadata": {},
   "outputs": [],
   "source": []
  },
  {
   "cell_type": "code",
   "execution_count": null,
   "metadata": {},
   "outputs": [],
   "source": [
    "# 상위 K 빈도 요소\n",
    "\n",
    "nums = list(map(int, input().split()))\n",
    "k = int(input())\n",
    "\n",
    "freq = {}\n",
    "answer = []\n",
    "\n",
    "# 빈도수\n",
    "for num in nums:\n",
    "    if num not in freq:\n",
    "        freq[num] = 1\n",
    "    else:\n",
    "        freq[num] += 1\n",
    "print(freq)\n",
    "\n",
    "# 조건\n",
    "for num in freq:\n",
    "    print(num, freq[num])\n",
    "    if freq[num] >= k:\n",
    "        answer.append(num)\n",
    "\n",
    "print(answer)"
   ]
  },
  {
   "cell_type": "code",
   "execution_count": null,
   "metadata": {},
   "outputs": [],
   "source": []
  },
  {
   "cell_type": "code",
   "execution_count": null,
   "metadata": {},
   "outputs": [],
   "source": []
  }
 ],
 "metadata": {
  "kernelspec": {
   "display_name": "Python 3",
   "language": "python",
   "name": "python3"
  },
  "language_info": {
   "codemirror_mode": {
    "name": "ipython",
    "version": 3
   },
   "file_extension": ".py",
   "mimetype": "text/x-python",
   "name": "python",
   "nbconvert_exporter": "python",
   "pygments_lexer": "ipython3",
   "version": "3.7.4"
  }
 },
 "nbformat": 4,
 "nbformat_minor": 2
}
