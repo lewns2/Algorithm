{
 "cells": [
  {
   "cell_type": "code",
   "execution_count": null,
   "metadata": {},
   "outputs": [],
   "source": [
    "# 보석과 돌 (리트코드 -706)\n",
    "\n",
    "J = str(input())\n",
    "S = str(input())\n",
    "\n",
    "freqs = {}\n",
    "\n",
    "# 돌(S)의 빈도수\n",
    "for char in S:\n",
    "    if char not in freqs:\n",
    "        freqs[char] = 1\n",
    "    else:\n",
    "        freqs[char] += 1\n",
    "\n",
    "# 보석(J)의 빈도수\n",
    "cnt = 0\n",
    "for char in J:\n",
    "    if char in freqs:\n",
    "        cnt += freqs[char]\n",
    "\n",
    "print(cnt)\n"
   ]
  },
  {
   "cell_type": "code",
   "execution_count": null,
   "metadata": {},
   "outputs": [],
   "source": [
    "# 상위 K 빈도 요소\n",
    "\n",
    "nums = list(map(int, input().split()))\n",
    "k = int(input())\n",
    "\n",
    "freq = {}\n",
    "answer = []\n",
    "\n",
    "# 빈도수\n",
    "for num in nums:\n",
    "    if num not in freq:\n",
    "        freq[num] = 1\n",
    "    else:\n",
    "        freq[num] += 1\n",
    "print(freq)\n",
    "\n",
    "# 조건\n",
    "for num in freq:\n",
    "    print(num, freq[num])\n",
    "    if freq[num] >= k:\n",
    "        answer.append(num)\n",
    "\n",
    "print(answer)"
   ]
  },
  {
   "cell_type": "code",
   "execution_count": null,
   "metadata": {},
   "outputs": [],
   "source": []
  },
  {
   "cell_type": "code",
   "execution_count": null,
   "metadata": {},
   "outputs": [],
   "source": []
  }
 ],
 "metadata": {
  "kernelspec": {
   "display_name": "Python 3",
   "language": "python",
   "name": "python3"
  },
  "language_info": {
   "codemirror_mode": {
    "name": "ipython",
    "version": 3
   },
   "file_extension": ".py",
   "mimetype": "text/x-python",
   "name": "python",
   "nbconvert_exporter": "python",
   "pygments_lexer": "ipython3",
   "version": "3.7.4"
  }
 },
 "nbformat": 4,
 "nbformat_minor": 2
}
