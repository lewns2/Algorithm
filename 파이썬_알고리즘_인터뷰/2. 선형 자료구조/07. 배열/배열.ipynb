{
 "cells": [
  {
   "cell_type": "code",
   "execution_count": null,
   "metadata": {},
   "outputs": [],
   "source": [
    "# 두수의 합\n",
    "\n",
    "# 나의 풀이(투 포인터)\n",
    "\n",
    "nums =[2, 7, 11, 15]\n",
    "target = 9\n",
    "\n",
    "left, right = 0, 1\n",
    "\n",
    "while True:\n",
    "    if nums[left] + nums[right] != target:\n",
    "        right += 1\n",
    "\n",
    "        if right == len(nums)-1:\n",
    "            left += 1\n",
    "            right = left + 1\n",
    "\n",
    "    elif nums[left] + nums[right] == target:\n",
    "        print([nums[left], nums[right]])\n",
    "        break\n",
    "\n",
    "        \n",
    "        \n",
    "        \n",
    "#  합-숫자 -> 나머지 숫자가 있는지 탐색\n",
    "\n",
    "nums =[2, 7, 11, 15]\n",
    "target = 9\n",
    "\n",
    "for i in range(len(nums)):\n",
    "\n",
    "    num = target - nums[i]\n",
    "\n",
    "    if num in nums[i+1:]:    # 중복 방지를 위해\n",
    "        print([nums[i], num])\n",
    "\n"
   ]
  },
  {
   "cell_type": "code",
   "execution_count": null,
   "metadata": {},
   "outputs": [],
   "source": [
    "# 빗물 트래핑 *\n",
    "\n",
    "# 투 포인터 (최대 높이 기준으로 좌, 우 나눔)\n",
    "wall = [0, 1, 0, 2, 1, 0, 1, 3, 2, 1, 2, 1]\n",
    "\n",
    "left, right = 0, len(wall)-1\n",
    "\n",
    "volume = 0\n",
    "\n",
    "left_max, right_max = wall[left], wall[right]\n",
    "\n",
    "while left < right:\n",
    "    left_max = max(wall[left], left_max)\n",
    "    right_max = max(wall[right], right_max)\n",
    "\n",
    "    if left_max <= right_max:\n",
    "        volume += left_max - wall[left]\n",
    "        left += 1\n",
    "    else:\n",
    "        volume += right_max - wall[right]\n",
    "        right -= 1\n",
    "\n",
    "print(volume)\n",
    "\n",
    "# 스택\n"
   ]
  },
  {
   "cell_type": "code",
   "execution_count": null,
   "metadata": {},
   "outputs": [],
   "source": [
    "# 세 수의 합 * \n",
    "\n",
    "nums = [-1, 0, 1, 2, -1, -4]\n",
    "\n",
    "nums.sort()\n",
    "result = []\n",
    "for i in range(len(nums)-2):\n",
    "    if i>0 and nums[i] == nums[i-1]:\n",
    "        continue\n",
    "\n",
    "        left, right = i+1, len(nums)-1\n",
    "\n",
    "        while left > right:\n",
    "            sum = nums[i]+nums[left]+nums[right]\n",
    "            if sum < 0:\n",
    "                left += 1\n",
    "            elif sum > 0:\n",
    "                right -= 1\n",
    "            else:\n",
    "                result.append([nums[i]], nums[left], nums[right])\n",
    "\n",
    "                while  left <right and nums[left] == nums[left+1]:\n",
    "                    left += 1\n",
    "                while left < right and nums[right] == nums[right-1]:\n",
    "                    right -= 1\n",
    "                left += 1\n",
    "                right -= 1\n",
    "\n",
    "    print(result)"
   ]
  },
  {
   "cell_type": "code",
   "execution_count": null,
   "metadata": {},
   "outputs": [],
   "source": [
    "# 배열 파티션 1\n",
    "\n",
    "nums = list(map(int, input().split()))\n",
    "\n",
    "print(sum(sorted(nums)[::2]))"
   ]
  },
  {
   "cell_type": "code",
   "execution_count": null,
   "metadata": {},
   "outputs": [],
   "source": [
    "# 자신을 제외한 배열의 곱(단, 나눗셈을 하지 않는다.)\n",
    "\n",
    "# 나의 풀이 : 1. 배열을 다 곱한다. 2. 하니씩 나눈다. # 나눗셈을 하지 않아야함.\n",
    "\n",
    "nums = list(map(int, input().split()))\n",
    "\n",
    "answer = 1\n",
    "result = []\n",
    "for i in range(len(nums)):\n",
    "    answer *= nums[i]\n",
    "\n",
    "for j in range(len(nums)):\n",
    "    answer = answer//nums[j]\n",
    "    result.append(answer)\n",
    "    \n",
    "print(result)\n",
    "\n"
   ]
  },
  {
   "cell_type": "code",
   "execution_count": null,
   "metadata": {},
   "outputs": [],
   "source": [
    "# 주식을 사고팔기 가장 좋은 시점\n",
    "\n",
    "# 브루트포스(시간 초과)\n",
    "nums = list(map(int, input().split()))\n",
    "\n",
    "max_price = 0\n",
    "result = []\n",
    "for i in range(len(nums)):\n",
    "\n",
    "    for j in range(i+1, len(nums)):\n",
    "        price = nums[j] - nums[i]\n",
    "        result.append(price)\n",
    "\n",
    "print(max(result))"
   ]
  },
  {
   "cell_type": "code",
   "execution_count": null,
   "metadata": {},
   "outputs": [],
   "source": [
    "# 정리가 필요한 부분\n",
    "\n",
    "# sys.maxsize?\n",
    "# 빗물 문제"
   ]
  },
  {
   "cell_type": "code",
   "execution_count": null,
   "metadata": {},
   "outputs": [],
   "source": []
  }
 ],
 "metadata": {
  "kernelspec": {
   "display_name": "Python 3",
   "language": "python",
   "name": "python3"
  },
  "language_info": {
   "codemirror_mode": {
    "name": "ipython",
    "version": 3
   },
   "file_extension": ".py",
   "mimetype": "text/x-python",
   "name": "python",
   "nbconvert_exporter": "python",
   "pygments_lexer": "ipython3",
   "version": "3.7.4"
  }
 },
 "nbformat": 4,
 "nbformat_minor": 2
}
