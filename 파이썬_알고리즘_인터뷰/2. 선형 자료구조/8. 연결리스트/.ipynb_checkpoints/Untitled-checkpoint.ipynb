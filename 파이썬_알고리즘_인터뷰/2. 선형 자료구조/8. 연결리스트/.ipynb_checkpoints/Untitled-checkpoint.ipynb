{
 "cells": [
  {
   "cell_type": "code",
   "execution_count": null,
   "metadata": {},
   "outputs": [],
   "source": [
    "# 팰린드롬 연결 리스트\n",
    "\n",
    "# 리스트 : 시간 복잡도 O(n)\n",
    "# pop이 하나씩 지움. 그러므로 while 조건문을 아래와 같이 설정\n",
    "# 앞, 뒤로 비교\n",
    "\n",
    "nums = list(map(int, input().split()))\n",
    "\n",
    "while len(nums) > 1:\n",
    "    if nums.pop(0) != nums.pop():\n",
    "        print(False)\n",
    "        \n",
    "# 데크 : 시간 복잡도 O(1)\n",
    "from collections import deque\n",
    "\n",
    "nums = deque(list(map(int, input().split())))\n",
    "\n",
    "while len(nums) > 1:\n",
    "    if nums.popleft() != nums.pop():\n",
    "        print(False)"
   ]
  },
  {
   "cell_type": "code",
   "execution_count": null,
   "metadata": {},
   "outputs": [],
   "source": []
  }
 ],
 "metadata": {
  "kernelspec": {
   "display_name": "Python 3",
   "language": "python",
   "name": "python3"
  },
  "language_info": {
   "codemirror_mode": {
    "name": "ipython",
    "version": 3
   },
   "file_extension": ".py",
   "mimetype": "text/x-python",
   "name": "python",
   "nbconvert_exporter": "python",
   "pygments_lexer": "ipython3",
   "version": "3.7.4"
  }
 },
 "nbformat": 4,
 "nbformat_minor": 2
}
