{
 "cells": [
  {
   "cell_type": "code",
   "execution_count": null,
   "metadata": {},
   "outputs": [],
   "source": [
    "# 두수의 합\n",
    "\n",
    "# 나의 풀이(투 포인터)\n",
    "\n",
    "nums =[2, 7, 11, 15]\n",
    "target = 9\n",
    "\n",
    "left, right = 0, 1\n",
    "\n",
    "while True:\n",
    "    if nums[left] + nums[right] != target:\n",
    "        right += 1\n",
    "\n",
    "        if right == len(nums)-1:\n",
    "            left += 1\n",
    "            right = left + 1\n",
    "\n",
    "    elif nums[left] + nums[right] == target:\n",
    "        print([nums[left], nums[right]])\n",
    "        break\n",
    "\n",
    "        \n",
    "        \n",
    "        \n",
    "#  합-숫자 -> 나머지 숫자가 있는지 탐색\n",
    "\n",
    "nums =[2, 7, 11, 15]\n",
    "target = 9\n",
    "\n",
    "for i in range(len(nums)):\n",
    "\n",
    "    num = target - nums[i]\n",
    "\n",
    "    if num in nums[i+1:]:    # 중복 방지를 위해\n",
    "        print([nums[i], num])\n",
    "\n"
   ]
  },
  {
   "cell_type": "code",
   "execution_count": null,
   "metadata": {},
   "outputs": [],
   "source": [
    "# 빗물 트래핑 *\n",
    "\n",
    "# 투 포인터 (최대 높이 기준으로 좌, 우 나눔)\n",
    "wall = [0, 1, 0, 2, 1, 0, 1, 3, 2, 1, 2, 1]\n",
    "\n",
    "left, right = 0, len(wall)-1\n",
    "\n",
    "volume = 0\n",
    "\n",
    "left_max, right_max = wall[left], wall[right]\n",
    "\n",
    "while left < right:\n",
    "    left_max = max(wall[left], left_max)\n",
    "    right_max = max(wall[right], right_max)\n",
    "\n",
    "    if left_max <= right_max:\n",
    "        volume += left_max - wall[left]\n",
    "        left += 1\n",
    "    else:\n",
    "        volume += right_max - wall[right]\n",
    "        right -= 1\n",
    "\n",
    "print(volume)\n",
    "\n",
    "# 스택\n"
   ]
  }
 ],
 "metadata": {
  "kernelspec": {
   "display_name": "Python 3",
   "language": "python",
   "name": "python3"
  },
  "language_info": {
   "codemirror_mode": {
    "name": "ipython",
    "version": 3
   },
   "file_extension": ".py",
   "mimetype": "text/x-python",
   "name": "python",
   "nbconvert_exporter": "python",
   "pygments_lexer": "ipython3",
   "version": "3.7.4"
  }
 },
 "nbformat": 4,
 "nbformat_minor": 2
}
