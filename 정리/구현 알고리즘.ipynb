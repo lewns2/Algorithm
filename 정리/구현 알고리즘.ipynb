{
 "cells": [
  {
   "cell_type": "code",
   "execution_count": 1,
   "metadata": {},
   "outputs": [],
   "source": [
    "#구현 : 머릿속에 있는 알고리즘을 소스코드로 바꾸는 과정"
   ]
  },
  {
   "cell_type": "code",
   "execution_count": 11,
   "metadata": {},
   "outputs": [
    {
     "name": "stdout",
     "output_type": "stream",
     "text": [
      "( 1 , 1 )( 1 , 2 )\n",
      "( 2 , 1 )( 2 , 2 )\n",
      "( 3 , 1 )( 3 , 2 )\n",
      "( 4 , 1 )( 4 , 2 )\n"
     ]
    }
   ],
   "source": [
    "# 2차원 공간 = 행렬\n",
    "\n",
    "for i in range(1,5):      # x축\n",
    "    for j in range(1,3):  # y축\n",
    "        print('(',i,',', j,')' ,end = '')\n",
    "    print()"
   ]
  },
  {
   "cell_type": "code",
   "execution_count": 9,
   "metadata": {},
   "outputs": [
    {
     "name": "stdout",
     "output_type": "stream",
     "text": [
      "2 3\n",
      "1 2\n",
      "2 1\n",
      "3 2\n"
     ]
    }
   ],
   "source": [
    "dx = [0,-1,0,1] # 방향 벡터\n",
    "dy = [1,0,-1,0]\n",
    "\n",
    "x, y = 2, 2 # 현재 위치\n",
    "\n",
    "for i in range(4):\n",
    "    nx = x + dx[i]\n",
    "    ny = y + dy[i]\n",
    "    print(nx, ny)\n",
    "    \n",
    "# 동쪽 이동\n",
    "# 북쪽 이동\n",
    "# 서쪽 이동\n",
    "# 남쪽 이동"
   ]
  },
  {
   "cell_type": "code",
   "execution_count": 13,
   "metadata": {},
   "outputs": [
    {
     "name": "stdout",
     "output_type": "stream",
     "text": [
      "5\n",
      "R R R U D D\n",
      "3 4\n"
     ]
    }
   ],
   "source": [
    "# 상하좌우(시뮬레이션)\n",
    "\n",
    "n = int(input())\n",
    "plans = input().split()\n",
    "x, y = 1, 1\n",
    "\n",
    "dx = [0, -1, 0, 1]\n",
    "dy = [1, 0, -1, 0]\n",
    "move = ['R','U','L','D']\n",
    "\n",
    "# R,U,L,D = i[0,1,2,3]\n",
    "\n",
    "for plan in plans:  # plan이 왜 필요하지? 이동 계획을 하나씩 확인\n",
    "    for i in range(len(move)):\n",
    "        if plan == move[i]:\n",
    "            nx = x + dx[i]\n",
    "            ny = y + dy[i]\n",
    "    \n",
    "    if nx < 1 or ny < 1 or nx > n or ny > n: #공간을 벗어나는 경우 무시\n",
    "        continue\n",
    "            \n",
    "    x, y = nx, ny\n",
    "\n",
    "print(x,y)\n",
    "\n",
    "\n",
    "        "
   ]
  },
  {
   "cell_type": "code",
   "execution_count": 14,
   "metadata": {},
   "outputs": [
    {
     "name": "stdout",
     "output_type": "stream",
     "text": [
      "2\n",
      "4725\n"
     ]
    }
   ],
   "source": [
    "# 완전 탐색 : 가능한 경우의 수를 모두 검사해보는 탐색 방법\n",
    "\n",
    "# 시각 : 0시 00분 00초 ~ N시 00분 00초 중 3이 포함되는 시각 카운트\n",
    "\n",
    "h = int(input())\n",
    "\n",
    "count = 0\n",
    "for i in range(h+1):\n",
    "    for j in range(60):\n",
    "        for k in range(60):\n",
    "            \n",
    "            if '3' in str(i) + str(j) + str(k):\n",
    "                count += 1\n",
    "\n",
    "print(count)\n"
   ]
  },
  {
   "cell_type": "code",
   "execution_count": 15,
   "metadata": {},
   "outputs": [
    {
     "name": "stdout",
     "output_type": "stream",
     "text": [
      "a1\n"
     ]
    }
   ],
   "source": [
    "# 왕실의 나이트 \n",
    "\n",
    "input_data = input()\n",
    "row = int(input_data[1])\n",
    "col = int(ord(input_data[0])) - int(ord('a')) + 1\n",
    "\n",
    "steps = [(-2,-1),(-1,-2),(1,-2),(2,-1),(2,1),(1,2),(-1,2),(-2,1)]\n",
    "\n",
    "result = 0\n",
    "for step in steps:\n",
    "    next_row = row + step[0]\n",
    "    next_col = col + step[1]\n",
    "    \n",
    "    if next_row >= 1 and next_row <= 8 and next_col >= 1 and next_col <= 8:\n",
    "        result += 1\n",
    "print(result)\n",
    "\n",
    "\n",
    " "
   ]
  },
  {
   "cell_type": "code",
   "execution_count": null,
   "metadata": {},
   "outputs": [],
   "source": [
    "# 문자열 재정렬\n",
    "\n",
    "data = input()\n",
    "result = []\n",
    "value = 0\n",
    "\n",
    "for x in data:\n",
    "    if x.isalpha():\n",
    "        result.append(x)\n",
    "    else:\n",
    "        value += int(x)\n",
    "        \n",
    "result.sort()\n",
    "\n",
    "if value != 0:\n",
    "    result.append(str(value)) #answ\n",
    "\n",
    "print(''.join(result))\n"
   ]
  }
 ],
 "metadata": {
  "kernelspec": {
   "display_name": "Python 3",
   "language": "python",
   "name": "python3"
  },
  "language_info": {
   "codemirror_mode": {
    "name": "ipython",
    "version": 3
   },
   "file_extension": ".py",
   "mimetype": "text/x-python",
   "name": "python",
   "nbconvert_exporter": "python",
   "pygments_lexer": "ipython3",
   "version": "3.7.4"
  }
 },
 "nbformat": 4,
 "nbformat_minor": 2
}
