{
 "cells": [
  {
   "cell_type": "code",
   "execution_count": 1,
   "metadata": {},
   "outputs": [],
   "source": [
    "# 그래프 탐색 알고리즘 : DFS/BFS"
   ]
  },
  {
   "cell_type": "code",
   "execution_count": 2,
   "metadata": {},
   "outputs": [],
   "source": [
    "# 탐색 : 많은 양의 데이터 중 원하는 데이터를 찾는 과정"
   ]
  },
  {
   "cell_type": "code",
   "execution_count": 6,
   "metadata": {},
   "outputs": [
    {
     "name": "stdout",
     "output_type": "stream",
     "text": [
      "[1, 3, 2, 5]\n",
      "[5, 2, 3, 1]\n"
     ]
    }
   ],
   "source": [
    "# 스택 자료구조 : 먼저 들어 온 데이터가 나중에 나가는 형식(선입후출)\n",
    "\n",
    "stack = [] #list를 스택으로 활용\n",
    "\n",
    "stack.append(5)\n",
    "stack.append(2)\n",
    "stack.append(3)\n",
    "stack.append(7) #\n",
    "stack.pop() # 삭제\n",
    "stack.append(1)\n",
    "stack.append(4) #\n",
    "stack.pop()\n",
    "\n",
    "print(stack[::-1]) # 최상단 원소부터 출력, -1이 포인트\n",
    "print(stack) # 최하단 원소부터 출력\n",
    "\n"
   ]
  },
  {
   "cell_type": "code",
   "execution_count": 9,
   "metadata": {},
   "outputs": [
    {
     "name": "stdout",
     "output_type": "stream",
     "text": [
      "deque([3, 7, 1, 4])\n",
      "deque([4, 1, 7, 3])\n"
     ]
    }
   ],
   "source": [
    "# 큐 자료구조 : 먼저 들어 온 데이터가 먼저 나가는 형식(선입선출)\n",
    "\n",
    "from collections import deque\n",
    "\n",
    "queue = deque()\n",
    "\n",
    "queue.append(5) #\n",
    "queue.append(2) #\n",
    "queue.append(3)\n",
    "queue.append(7)\n",
    "queue.popleft()\n",
    "queue.append(1)\n",
    "queue.append(4)\n",
    "queue.popleft()\n",
    "\n",
    "print(queue)\n",
    "queue.reverse()\n",
    "print(queue)\n",
    "\n",
    "# 먼저 들어온 '5'삭제, 다음 들어온 `2`삭제"
   ]
  },
  {
   "cell_type": "code",
   "execution_count": 15,
   "metadata": {},
   "outputs": [
    {
     "name": "stdout",
     "output_type": "stream",
     "text": [
      "9 번째 재귀함수를 종료합니다.\n",
      "8 번째 재귀함수를 종료합니다.\n",
      "7 번째 재귀함수를 종료합니다.\n",
      "6 번째 재귀함수를 종료합니다.\n",
      "5 번째 재귀함수를 종료합니다.\n",
      "4 번째 재귀함수를 종료합니다.\n",
      "3 번째 재귀함수를 종료합니다.\n",
      "2 번째 재귀함수를 종료합니다.\n",
      "1 번째 재귀함수를 종료합니다.\n",
      "0 번째 재귀함수를 종료합니다.\n"
     ]
    }
   ],
   "source": [
    "# 재귀 함수 : 자기 자신을 다시 호출하는 함수 (stack 대신에 사용하기도 함)\n",
    "\n",
    "# 종료 조건 필수!\n",
    "\n",
    "# def (함수)를 안에 또 사용.\n",
    "\n",
    "def recursive_function(i):\n",
    "    #10번째 호출을 했을 때 종료되도록\n",
    "    if i == 10:\n",
    "        return\n",
    "    \n",
    "    recursive_function(i+1)\n",
    "    print(i, '번째 재귀함수를 종료합니다.')\n",
    "    \n",
    "    \n",
    "recursive_function(0)"
   ]
  },
  {
   "cell_type": "code",
   "execution_count": 18,
   "metadata": {},
   "outputs": [
    {
     "name": "stdout",
     "output_type": "stream",
     "text": [
      "120\n",
      "120\n"
     ]
    }
   ],
   "source": [
    "# 팩토리얼 구현\n",
    " \n",
    " # 방법 1. 반복적으로 구현\n",
    "def factorial_iterative(n):\n",
    "    result = 1\n",
    "    #1부터 n까지 곱하기\n",
    "    \n",
    "    for i in range(1, n+1):\n",
    "        result *= i\n",
    "    return result\n",
    "\n",
    "print(factorial_iterative(5))\n",
    "\n",
    " # 방법 2. 재귀적으로 구현\n",
    "def factorial_recursive(n):\n",
    "    if n <= 1:\n",
    "        return 1\n",
    "    \n",
    "    return n * factorial_recursive(n-1)\n",
    "\n",
    "print(factorial_recursive(5))"
   ]
  },
  {
   "cell_type": "code",
   "execution_count": 19,
   "metadata": {},
   "outputs": [],
   "source": [
    "# DFS : 깊이 우선 탐색 ; 그래프에서 깊은 부분을 우선적으로 탐색하는 알고리즘\n",
    "\n",
    "# 스택 자료구조(or 재귀 함수)를 이용\n",
    "\n",
    "# 동작 과정\n",
    "## 1. 탐색 시작 노드를 스택에 삽입하고 방문 처리\n",
    "## 2. 스택의 최상단 노드에 방문하지 않은 인접한 노드가 하나라도 있으면 그 노드를 스택에 넣고 방문 처리.\n",
    "##    방문하지 않은 인접 노드가 없으면 스택에서 최상단 노드를 꺼냄.\n",
    "## 3. 2의 과정을 수행할 수 없을 때까지 반복"
   ]
  },
  {
   "cell_type": "code",
   "execution_count": 20,
   "metadata": {},
   "outputs": [
    {
     "name": "stdout",
     "output_type": "stream",
     "text": [
      "12768345"
     ]
    }
   ],
   "source": [
    "# DFS 소스코드\n",
    "\n",
    "def dfs(graph, v, visited):\n",
    "    visited[v] = True  # 현재 노드를 방문 처리\n",
    "    print(v, end='')\n",
    "    \n",
    "    for i in graph[v]: # 현재 노드와 연결된 다른 노드를 재귀적으로 방문\n",
    "        if not visited[i]:\n",
    "            dfs(graph, i, visited)\n",
    "\n",
    "# 각 노드가 연결된 정보 표현(2차원 리스트)\n",
    "graph = [\n",
    "    [],            # `1`, * 1 시작이면 비워두고 시작해도 무방\n",
    "    [2,3,8],       # `1`번 인접 노드\n",
    "    [1,7],         # `2`번 인접 노드\n",
    "    [1,4,5],       # `3`번 인접 노드\n",
    "    [3,5],         # 4\n",
    "    [3,4],         # 5\n",
    "    [7],           # 6\n",
    "    [2,6,8],       # 7\n",
    "    [1,7]          # 8\n",
    "]\n",
    "\n",
    "# 각 노드가 방문된 정보를 표현 (1차원 리스트)\n",
    "visited = [False] * 9      # 9개 = 위의 그래프의 리스트 갯수\n",
    "\n",
    "dfs(graph, 1, visited)"
   ]
  },
  {
   "cell_type": "code",
   "execution_count": 21,
   "metadata": {},
   "outputs": [],
   "source": [
    "# BFS : 너비 우선 탐색; 그래프에서 가까운 노드부터 우선적으로 탐색하는 알고리즘\n",
    "\n",
    "# 큐 자료구조를 이용\n",
    "\n",
    "# 동작과정 \n",
    "## 1. 탐색 시작 노드를 큐에 삽입하고 방문 처리\n",
    "## 2. 큐에서 노드를 꺼낸 뒤에 해당 노드의 인접 노드 중에서 방문하지 않은 노드를 모두 큐에 삽입 후 방문 처리\n",
    "## 3. 더 이상 2번의 과정을 수행할 수 없을 때까지 반복"
   ]
  },
  {
   "cell_type": "code",
   "execution_count": 22,
   "metadata": {},
   "outputs": [
    {
     "name": "stdout",
     "output_type": "stream",
     "text": [
      "12387456"
     ]
    }
   ],
   "source": [
    "# BFS 소스 코드\n",
    "\n",
    "from collections import deque\n",
    "\n",
    "def bfs(graph, start, visited):\n",
    "    queue = deque([start])\n",
    "    visited[start]=True # 현재 노드 방문 처리\n",
    "    # 큐가 빌 때까지 반복\n",
    "    while queue:\n",
    "        # 큐에서 하나의 원소를 뽑아 출력\n",
    "        v = queue.popleft()\n",
    "        print(v, end='')\n",
    "        #아직 방문하지 않은 인접한 원소들을 큐에 삽입\n",
    "        for i in graph[v]:\n",
    "            if not visited[i]:\n",
    "                queue.append(i)\n",
    "                visited[i] = True\n",
    "                \n",
    "graph = [\n",
    "    [],            # `1`, * 1 시작이면 비워두고 시작해도 무방\n",
    "    [2,3,8],       # `1`번 인접 노드\n",
    "    [1,7],         # `2`번 인접 노드\n",
    "    [1,4,5],       # `3`번 인접 노드\n",
    "    [3,5],         # 4\n",
    "    [3,4],         # 5\n",
    "    [7],           # 6\n",
    "    [2,6,8],       # 7\n",
    "    [1,7]          # 8\n",
    "]\n",
    "    \n",
    "visited = [False] * 9 \n",
    "\n",
    "bfs(graph, 1, visited)"
   ]
  },
  {
   "cell_type": "code",
   "execution_count": null,
   "metadata": {},
   "outputs": [],
   "source": [
    "# 음료수 얼려 먹기\n",
    " "
   ]
  },
  {
   "cell_type": "code",
   "execution_count": null,
   "metadata": {},
   "outputs": [],
   "source": []
  },
  {
   "cell_type": "code",
   "execution_count": null,
   "metadata": {},
   "outputs": [],
   "source": []
  },
  {
   "cell_type": "code",
   "execution_count": null,
   "metadata": {},
   "outputs": [],
   "source": []
  }
 ],
 "metadata": {
  "kernelspec": {
   "display_name": "Python 3",
   "language": "python",
   "name": "python3"
  },
  "language_info": {
   "codemirror_mode": {
    "name": "ipython",
    "version": 3
   },
   "file_extension": ".py",
   "mimetype": "text/x-python",
   "name": "python",
   "nbconvert_exporter": "python",
   "pygments_lexer": "ipython3",
   "version": "3.7.4"
  }
 },
 "nbformat": 4,
 "nbformat_minor": 2
}
