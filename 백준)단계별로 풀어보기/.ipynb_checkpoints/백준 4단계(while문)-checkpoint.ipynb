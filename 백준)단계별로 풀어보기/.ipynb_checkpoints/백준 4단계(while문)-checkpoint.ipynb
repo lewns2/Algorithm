{
 "cells": [
  {
   "cell_type": "code",
   "execution_count": null,
   "metadata": {},
   "outputs": [],
   "source": [
    "# A+B -5(10952)\n",
    "\n",
    "while True:\n",
    "\n",
    "    a, b = map(int, input().split())\n",
    "    if a == 0 and b == 0:\n",
    "        break\n",
    "    else:\n",
    "        print(a+b)\n"
   ]
  },
  {
   "cell_type": "code",
   "execution_count": null,
   "metadata": {},
   "outputs": [],
   "source": [
    "# A+B -4(10951)\n",
    "\n",
    "while True:\n",
    "    try:\n",
    "        a, b = map(int, input().split())\n",
    "        print(a + b)\n",
    "    except:\n",
    "        break"
   ]
  },
  {
   "cell_type": "code",
   "execution_count": null,
   "metadata": {},
   "outputs": [],
   "source": [
    "# 더하기 사이클(1110)\n",
    "\n",
    "N = input()\n",
    "init = N\n",
    "n = 0\n",
    "cnt = 0\n",
    "\n",
    "# 26[init] (result: 8) 68 84 42 26 ...\n",
    "\n",
    "while True:\n",
    "    cnt += 1\n",
    "    result = int(init[0]) + int(init[1]) # 각 자릿수 더하기\n",
    "\n",
    "    if len(str(result)) < 2:\n",
    "        n = init[1] + str(result)\n",
    "    else:\n",
    "        n = init[1] + str(result)[1]\n",
    "    c = n\n",
    "    if c == N:\n",
    "        break\n",
    "\n",
    "print(cnt)"
   ]
  }
 ],
 "metadata": {
  "kernelspec": {
   "display_name": "Python 3",
   "language": "python",
   "name": "python3"
  },
  "language_info": {
   "codemirror_mode": {
    "name": "ipython",
    "version": 3
   },
   "file_extension": ".py",
   "mimetype": "text/x-python",
   "name": "python",
   "nbconvert_exporter": "python",
   "pygments_lexer": "ipython3",
   "version": "3.7.4"
  }
 },
 "nbformat": 4,
 "nbformat_minor": 2
}
