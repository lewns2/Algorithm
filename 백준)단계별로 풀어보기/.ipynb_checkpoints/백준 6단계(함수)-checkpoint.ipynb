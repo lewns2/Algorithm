{
 "cells": [
  {
   "cell_type": "code",
   "execution_count": 3,
   "metadata": {},
   "outputs": [
    {
     "name": "stdout",
     "output_type": "stream",
     "text": [
      "4 5 4 4\n",
      "17\n"
     ]
    }
   ],
   "source": [
    "# 정수 N개의 합(15596)\n",
    "\n",
    "def solve(n):\n",
    "    return sum(n)\n",
    "\n",
    "temp = list(map(int, input().split()))\n",
    "print(solve(temp))"
   ]
  },
  {
   "cell_type": "code",
   "execution_count": null,
   "metadata": {},
   "outputs": [],
   "source": [
    "# 셀프 넘버(4673)\n",
    "\n",
    "def d(n):\n",
    "    sum = 0\n",
    "    for i in list(str(n)): # list(str(n))\n",
    "        sum += int(i)   # int(i) : 각 자리수 더하기\n",
    "    return int(n) + sum\n",
    "\n",
    "crete_num = []\n",
    "\n",
    "for i in range(1, 10001):\n",
    "    k = d(i)\n",
    "    crete_num.append(k)\n",
    "\n",
    "for j in range(1, 10001):\n",
    "    if j in crete_num:\n",
    "        pass\n",
    "    else:\n",
    "        print(j)"
   ]
  },
  {
   "cell_type": "code",
   "execution_count": null,
   "metadata": {},
   "outputs": [],
   "source": [
    "# 한수(1065)\n",
    "\n",
    "def solve(n):\n",
    "    hansu = 0\n",
    "\n",
    "    for i in range(1, n+1):\n",
    "        num_list = list(map(int, str(i)))\n",
    "        if i < 100:\n",
    "            hansu += 1\n",
    "        elif num_list[0]-num_list[1] == num_list[1]-num_list[2]:\n",
    "            hansu += 1\n",
    "    return hansu\n",
    "\n",
    "n = int(input())\n",
    "print(solve(n))"
   ]
  }
 ],
 "metadata": {
  "kernelspec": {
   "display_name": "Python 3",
   "language": "python",
   "name": "python3"
  },
  "language_info": {
   "codemirror_mode": {
    "name": "ipython",
    "version": 3
   },
   "file_extension": ".py",
   "mimetype": "text/x-python",
   "name": "python",
   "nbconvert_exporter": "python",
   "pygments_lexer": "ipython3",
   "version": "3.7.4"
  }
 },
 "nbformat": 4,
 "nbformat_minor": 4
}
