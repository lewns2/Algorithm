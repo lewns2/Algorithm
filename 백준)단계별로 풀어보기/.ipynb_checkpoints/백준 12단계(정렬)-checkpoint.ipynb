{
 "cells": [
  {
   "cell_type": "code",
   "execution_count": null,
   "metadata": {},
   "outputs": [],
   "source": [
    "# 수 정렬하기(2750)\n",
    "\n",
    "n = int(input())\n",
    "num_list = []\n",
    "for i in range(n):\n",
    "    num = int(input())\n",
    "    num_list.append(num)\n",
    "\n",
    "num_list.sort()\n",
    "\n",
    "for i in range(len(num_list)):\n",
    "    print(num_list[i])"
   ]
  },
  {
   "cell_type": "code",
   "execution_count": null,
   "metadata": {},
   "outputs": [],
   "source": [
    "# 수 정렬하기 2(2751)\n",
    "\n",
    "import sys\n",
    "n = int(sys.stdin.readline())\n",
    "num_list = []\n",
    "for i in range(n):\n",
    "    num = int(sys.stdin.readline())\n",
    "    num_list.append(num)\n",
    "\n",
    "num_list.sort()\n",
    "\n",
    "for i in range(len(num_list)):\n",
    "    print(num_list[i])"
   ]
  },
  {
   "cell_type": "code",
   "execution_count": null,
   "metadata": {},
   "outputs": [],
   "source": [
    "# 수 정렬하기 3(10989)\n",
    "\n",
    "# 메모리 초과\n",
    "import sys\n",
    "\n",
    "n = int(sys.stdin.readline())\n",
    "num_list = []\n",
    "\n",
    "for i in range(n):\n",
    "    num = int(sys.stdin.readline())\n",
    "    num_list.append(num)\n",
    "\n",
    "cnt = [0] * (max(num_list)+1)\n",
    "\n",
    "for i in range(len(num_list)):\n",
    "    cnt[num_list[i]] += 1\n",
    "\n",
    "for i in range(len(cnt)):\n",
    "    for j in range(cnt[i]):\n",
    "        print(i)\n",
    "        \n"
   ]
  },
  {
   "cell_type": "code",
   "execution_count": null,
   "metadata": {},
   "outputs": [],
   "source": [
    "# 통계학(2108)"
   ]
  },
  {
   "cell_type": "code",
   "execution_count": null,
   "metadata": {},
   "outputs": [],
   "source": [
    "# 소트인사이드(1427)\n",
    "\n",
    "n = list(map(int, input()))\n",
    "\n",
    "def quick(n):\n",
    "    if len(n) <= 1:\n",
    "        return n\n",
    "\n",
    "    pivot = n[0]\n",
    "    tail = n[1:]\n",
    "\n",
    "    left = [x for x in tail if x >= pivot]\n",
    "    right = [x for x in tail if x < pivot]\n",
    "\n",
    "    return quick(left) + [pivot] + quick(right)\n",
    "\n",
    "# 리스트를 정수로 받기 위함\n",
    "for a in quick(n):\n",
    "    print(a, end=\"\")"
   ]
  },
  {
   "cell_type": "code",
   "execution_count": null,
   "metadata": {},
   "outputs": [],
   "source": [
    "# 좌표 정렬하기(11650)\n",
    "\n",
    "import sys\n",
    "n = int(sys.stdin.readline())\n",
    "result = []\n",
    "\n",
    "for i in range(n):\n",
    "    result.append(list(map(int, sys.stdin.readline().split())))\n",
    "\n",
    "result.sort(key=lambda x: (x[0],x[1]))\n",
    "\n",
    "for x, y in result:\n",
    "    print(x, y)"
   ]
  },
  {
   "cell_type": "code",
   "execution_count": null,
   "metadata": {},
   "outputs": [],
   "source": [
    "# 좌표 정렬하기 2(11651)\n",
    "\n",
    "import sys\n",
    "n = int(sys.stdin.readline())\n",
    "result = []\n",
    "\n",
    "for i in range(n):\n",
    "    result.append(list(map(int, sys.stdin.readline().split())))\n",
    "\n",
    "result.sort(key=lambda x: (x[1],x[0]))\n",
    "\n",
    "for x, y in result:\n",
    "    print(x, y)\n",
    "\n"
   ]
  },
  {
   "cell_type": "code",
   "execution_count": null,
   "metadata": {},
   "outputs": [],
   "source": [
    "# 단어 정렬(1181)\n",
    "\n",
    "n = int(input())\n",
    "word_list = []\n",
    "for i in range(n):\n",
    "    word = input()\n",
    "    word_list.append(word)\n",
    "\n",
    "word_list = sorted(word_list)\n",
    "word_list.sort(key=len)\n",
    "\n",
    "# set으로 중복 제거 시 순서가 뒤죽박죽 된다.\n",
    "answer = []\n",
    "for v in word_list:\n",
    "    if v not in answer:\n",
    "        answer.append(v)\n",
    "\n",
    "print(answer)\n"
   ]
  },
  {
   "cell_type": "code",
   "execution_count": null,
   "metadata": {},
   "outputs": [],
   "source": [
    "# 나이순 정렬(10814)\n",
    "\n",
    "# 시간 초과\n",
    "import sys\n",
    "n = int(sys.stdin.readline())\n",
    "info = []\n",
    "for i in range(n):\n",
    "    info.append(list(sys.stdin.readline().split()))\n",
    "    info.sort(key=lambda x:x[0]) # 시간 초과 이유? for문 안에서 정렬하였기 때문에 \n",
    "                                  # 오답인 이유? int(x[0]) 차이\n",
    "for x,y in info:\n",
    "    print(x,y)\n",
    "\n",
    "# 정답\n",
    "import sys\n",
    "n = int(sys.stdin.readline())\n",
    "member = []\n",
    "for i in range(n):\n",
    "    member.append(list(sys.stdin.readline().split()))\n",
    "member.sort(key=lambda x: int(x[0]))\n",
    "for i in range(n):\n",
    "    print(member[i][0], member[i][1])"
   ]
  }
 ],
 "metadata": {
  "kernelspec": {
   "display_name": "Python 3",
   "language": "python",
   "name": "python3"
  },
  "language_info": {
   "codemirror_mode": {
    "name": "ipython",
    "version": 3
   },
   "file_extension": ".py",
   "mimetype": "text/x-python",
   "name": "python",
   "nbconvert_exporter": "python",
   "pygments_lexer": "ipython3",
   "version": "3.7.4"
  }
 },
 "nbformat": 4,
 "nbformat_minor": 2
}
