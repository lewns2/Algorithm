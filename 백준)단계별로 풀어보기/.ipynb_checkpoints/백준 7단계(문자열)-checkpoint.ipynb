{
 "cells": [
  {
   "cell_type": "code",
   "execution_count": 1,
   "metadata": {},
   "outputs": [],
   "source": [
    "# 문자열"
   ]
  },
  {
   "cell_type": "code",
   "execution_count": 1,
   "metadata": {},
   "outputs": [
    {
     "name": "stdout",
     "output_type": "stream",
     "text": [
      "A\n",
      "65\n"
     ]
    }
   ],
   "source": [
    "# 아스키 코드(11654)\n",
    "\n",
    "# ord(문자) : 아스키 코드 반환 / chr(숫자) : 숫자에 맞는 아스키 코드 반환\n",
    "\n",
    "a = input()\n",
    "\n",
    "print(ord(a))"
   ]
  },
  {
   "cell_type": "code",
   "execution_count": null,
   "metadata": {},
   "outputs": [],
   "source": [
    "# 숫자의 합(11720)\n",
    "\n",
    "n = int(input())\n",
    "\n",
    "input_data = list(input())\n",
    "\n",
    "result = 0\n",
    "\n",
    "for i in input_data:\n",
    "    result += input_data(i)\n",
    "\n",
    "print(result)"
   ]
  },
  {
   "cell_type": "code",
   "execution_count": null,
   "metadata": {},
   "outputs": [],
   "source": [
    "# 알파벳 찾기(10809)\n",
    "\n",
    "word = input()\n",
    "alphabet = list(range(ord('a'),ord('z')))\n",
    "\n",
    "for i in alphabet:\n",
    "    print(word.find(chr(i)), end='')"
   ]
  },
  {
   "cell_type": "code",
   "execution_count": null,
   "metadata": {},
   "outputs": [],
   "source": [
    "# 문자열 반복(2675)\n",
    "\n",
    "T = int(input()) #테스트 케이스\n",
    "\n",
    "for i in range(T):\n",
    "    r, s = input().split()\n",
    "    r = int(r)\n",
    "    s = str(s)\n",
    "    result = []\n",
    "\n",
    "    for i in range(r):\n",
    "        print(r*s[i], end='')\n",
    "\n",
    "print(result)"
   ]
  },
  {
   "cell_type": "code",
   "execution_count": null,
   "metadata": {},
   "outputs": [],
   "source": [
    "# 단어 공부(1157)\n",
    "\n",
    "word = input().lower()\n",
    "word_list = list(set(word))\n",
    "cnt = []\n",
    "\n",
    "for i in word_list:\n",
    "    count = word.count(i)\n",
    "    cnt.append(count)\n",
    "\n",
    "if cnt.count(max(cnt)) >= 2:\n",
    "    print(\"?\")\n",
    "else:\n",
    "    print(word_list[cnt.index(max(cnt))].upper())\n",
    "\n"
   ]
  },
  {
   "cell_type": "code",
   "execution_count": null,
   "metadata": {},
   "outputs": [],
   "source": [
    "# 단어의 개수(1152)\n",
    "\n",
    "n = list(map(str, input().split()))\n",
    "\n",
    "print(len(n))"
   ]
  },
  {
   "cell_type": "code",
   "execution_count": null,
   "metadata": {},
   "outputs": [],
   "source": [
    "# 상수(2908)\n",
    "\n",
    "a, b = input().split()\n",
    "\n",
    "a = int(a[::-1])\n",
    "b = int(b[::-1])\n",
    "\n",
    "if a > b:\n",
    "    print(a)\n",
    "else:\n",
    "    print(b)"
   ]
  },
  {
   "cell_type": "code",
   "execution_count": null,
   "metadata": {},
   "outputs": [],
   "source": [
    "# 다이얼(5622)\n",
    "\n",
    "word = input()\n",
    "dial = ['ABC', 'DEF', 'GHI', 'JKL', 'MNO', 'PQRS', 'TUV', 'WXYZ']\n",
    "\n",
    "sec = 0\n",
    "\n",
    "for j in range(len(word)):\n",
    "    for i in dial:\n",
    "        if word[j] in i:\n",
    "            sec += dial.index(i)+3\n",
    "print(sec)"
   ]
  },
  {
   "cell_type": "code",
   "execution_count": null,
   "metadata": {},
   "outputs": [],
   "source": [
    "# 크로아티아 알파벳(2941)\n",
    "\n",
    "word = input()\n",
    "\n",
    "dic = ['c=', 'c-', 'dz=', 'd-', 'lj', 'nj', 's=', 'z=']\n",
    "\n",
    "for i in dic:\n",
    "    word = word.replace(i, '*')\n",
    "print(len(word))"
   ]
  },
  {
   "cell_type": "code",
   "execution_count": null,
   "metadata": {},
   "outputs": [],
   "source": [
    "# 그룹 단어 체커(1316)\n",
    "\n",
    "n = int(input())\n",
    "count = 0\n",
    "\n",
    "for i in range(n):\n",
    "    word = input()\n",
    "    if list(word) == sorted(word, key=word.find):\n",
    "        count += 1\n",
    "    \n",
    "print(count)\n"
   ]
  }
 ],
 "metadata": {
  "kernelspec": {
   "display_name": "Python 3",
   "language": "python",
   "name": "python3"
  },
  "language_info": {
   "codemirror_mode": {
    "name": "ipython",
    "version": 3
   },
   "file_extension": ".py",
   "mimetype": "text/x-python",
   "name": "python",
   "nbconvert_exporter": "python",
   "pygments_lexer": "ipython3",
   "version": "3.7.4"
  }
 },
 "nbformat": 4,
 "nbformat_minor": 2
}
