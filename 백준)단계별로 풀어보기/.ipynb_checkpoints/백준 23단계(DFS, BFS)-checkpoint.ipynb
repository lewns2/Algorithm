{
 "cells": [
  {
   "cell_type": "code",
   "execution_count": null,
   "metadata": {},
   "outputs": [],
   "source": [
    "# DFS와 BFS(1260)\n",
    "\n",
    "# n : 정점의 갯수, m : 간선의 갯수, v : 탐색을 시작할 정점의 번호\n",
    "n, m, v = map(int, input().split())\n",
    "graph = [[0]*[n+1] for _ in range(n+1)] # 빈 2차원 배열에 0을 입력 N값에 따라 크기 입력\n",
    "visited = [False] * [n+1] # (n+1) 리스트 갯수\n",
    "\n",
    "def dfs(v):\n",
    "    visited[v] = True\n",
    "    print(v, end='')\n",
    "\n",
    "    for i in range(1, n+1):\n",
    "        if not visited[i]:\n",
    "            dfs(i)\n",
    "\n",
    "\n",
    "def bfs(v):\n",
    "    queue = [v]\n",
    "    visited[v] = False # dfs에서 이미 True 처리를 했기 때문\n",
    "    while queue:\n",
    "        v = queue.pop(0)\n",
    "        print(v, end='')\n",
    "\n",
    "        for i in range(1, n+1):\n",
    "            if visited[i] and graph[v][i] == 1:\n",
    "                queue.append(i)\n",
    "                visited[i] = False\n",
    "\n",
    "dfs(v)\n",
    "bfs(v)\n"
   ]
  },
  {
   "cell_type": "code",
   "execution_count": null,
   "metadata": {},
   "outputs": [],
   "source": [
    "# 바이러스(2606)"
   ]
  },
  {
   "cell_type": "code",
   "execution_count": null,
   "metadata": {},
   "outputs": [],
   "source": [
    "# 단지번호붙이기(2667)"
   ]
  },
  {
   "cell_type": "code",
   "execution_count": null,
   "metadata": {},
   "outputs": [],
   "source": [
    "# 유기농 배추(1012)"
   ]
  },
  {
   "cell_type": "code",
   "execution_count": null,
   "metadata": {},
   "outputs": [],
   "source": [
    "# 미로 탐색(2178)"
   ]
  },
  {
   "cell_type": "code",
   "execution_count": null,
   "metadata": {},
   "outputs": [],
   "source": [
    "# 토마토(7576)"
   ]
  },
  {
   "cell_type": "code",
   "execution_count": null,
   "metadata": {},
   "outputs": [],
   "source": [
    "# 토마토(7569)"
   ]
  },
  {
   "cell_type": "code",
   "execution_count": null,
   "metadata": {},
   "outputs": [],
   "source": [
    "# 숨바꼭질(1697)"
   ]
  },
  {
   "cell_type": "code",
   "execution_count": null,
   "metadata": {},
   "outputs": [],
   "source": [
    "# 벽 부수고 이동하기(2206)"
   ]
  },
  {
   "cell_type": "code",
   "execution_count": null,
   "metadata": {},
   "outputs": [],
   "source": [
    "# 나이트의 이동(7562)"
   ]
  },
  {
   "cell_type": "code",
   "execution_count": null,
   "metadata": {},
   "outputs": [],
   "source": [
    "# 이분 그래프(1707)"
   ]
  },
  {
   "cell_type": "code",
   "execution_count": null,
   "metadata": {},
   "outputs": [],
   "source": []
  }
 ],
 "metadata": {
  "kernelspec": {
   "display_name": "Python 3",
   "language": "python",
   "name": "python3"
  },
  "language_info": {
   "codemirror_mode": {
    "name": "ipython",
    "version": 3
   },
   "file_extension": ".py",
   "mimetype": "text/x-python",
   "name": "python",
   "nbconvert_exporter": "python",
   "pygments_lexer": "ipython3",
   "version": "3.6.10"
  }
 },
 "nbformat": 4,
 "nbformat_minor": 4
}
