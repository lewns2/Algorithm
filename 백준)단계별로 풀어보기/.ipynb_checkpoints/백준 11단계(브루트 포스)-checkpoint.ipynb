{
 "cells": [
  {
   "cell_type": "code",
   "execution_count": null,
   "metadata": {},
   "outputs": [],
   "source": [
    "# 블랙잭(2798)\n",
    "\n",
    "N, M = map(int, input().split())\n",
    "\n",
    "card = list(map(int, input().split()))\n",
    "\n",
    "result = 0\n",
    "\n",
    "for i in range(N):\n",
    "    for j in range(i+1, N):\n",
    "        for k in range(j+1, N):\n",
    "            if card[i] +card[j]+card[k] >M:\n",
    "                continue\n",
    "            else:\n",
    "                result = max(result, card[i] +card[j]+card[k])\n",
    "\n",
    "print(result)"
   ]
  },
  {
   "cell_type": "code",
   "execution_count": null,
   "metadata": {},
   "outputs": [],
   "source": [
    "# 분해합(2231)\n",
    "\n",
    "N = int(input())\n",
    "result = 0\n",
    "\n",
    "for i in range(1, N+1):\n",
    "    A = list(map(int, str(i)))\n",
    "    result = i + sum(A)\n",
    "    if result == N:\n",
    "        print(i)\n",
    "        break\n",
    "    if i ==N:\n",
    "        print(0)"
   ]
  },
  {
   "cell_type": "code",
   "execution_count": null,
   "metadata": {},
   "outputs": [],
   "source": [
    "# 덩치(7568)"
   ]
  },
  {
   "cell_type": "code",
   "execution_count": null,
   "metadata": {},
   "outputs": [],
   "source": [
    "# 체스판 다시 칠하기(1018)"
   ]
  },
  {
   "cell_type": "code",
   "execution_count": null,
   "metadata": {},
   "outputs": [],
   "source": [
    "# 영화감독 숌(1436)"
   ]
  }
 ],
 "metadata": {
  "kernelspec": {
   "display_name": "Python 3",
   "language": "python",
   "name": "python3"
  },
  "language_info": {
   "codemirror_mode": {
    "name": "ipython",
    "version": 3
   },
   "file_extension": ".py",
   "mimetype": "text/x-python",
   "name": "python",
   "nbconvert_exporter": "python",
   "pygments_lexer": "ipython3",
   "version": "3.7.4"
  }
 },
 "nbformat": 4,
 "nbformat_minor": 2
}
