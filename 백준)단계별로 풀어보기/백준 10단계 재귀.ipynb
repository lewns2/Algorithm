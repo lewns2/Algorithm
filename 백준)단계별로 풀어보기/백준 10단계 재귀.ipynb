{
 "cells": [
  {
   "cell_type": "code",
   "execution_count": 1,
   "metadata": {},
   "outputs": [
    {
     "name": "stdout",
     "output_type": "stream",
     "text": [
      "5\n",
      "120\n"
     ]
    }
   ],
   "source": [
    "# 팩토리얼\n",
    "\n",
    "N = int(input())\n",
    "\n",
    "def fac(n):\n",
    "    result = 1\n",
    "\n",
    "    for i in range(1, n+1):\n",
    "        result *= i\n",
    "    return result\n",
    "\n",
    "print(fac(N))"
   ]
  },
  {
   "cell_type": "code",
   "execution_count": 2,
   "metadata": {},
   "outputs": [
    {
     "name": "stdout",
     "output_type": "stream",
     "text": [
      "50\n",
      "12586269025\n"
     ]
    }
   ],
   "source": [
    "# 피보나치 - 근데 너무 더럽게 품 \n",
    "\n",
    "N = int(input())\n",
    "\n",
    "result = []\n",
    "result.append(0)\n",
    "result.append(1)\n",
    "\n",
    "for i in range(N):\n",
    "    s = int(result[i] + result[i+1])\n",
    "    result.append(s)\n",
    "\n",
    "print(result[N])"
   ]
  },
  {
   "cell_type": "code",
   "execution_count": null,
   "metadata": {},
   "outputs": [],
   "source": []
  }
 ],
 "metadata": {
  "kernelspec": {
   "display_name": "Python 3",
   "language": "python",
   "name": "python3"
  },
  "language_info": {
   "codemirror_mode": {
    "name": "ipython",
    "version": 3
   },
   "file_extension": ".py",
   "mimetype": "text/x-python",
   "name": "python",
   "nbconvert_exporter": "python",
   "pygments_lexer": "ipython3",
   "version": "3.7.4"
  }
 },
 "nbformat": 4,
 "nbformat_minor": 2
}
