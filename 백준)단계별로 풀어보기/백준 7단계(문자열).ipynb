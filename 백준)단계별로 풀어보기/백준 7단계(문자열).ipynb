{
 "cells": [
  {
   "cell_type": "code",
   "execution_count": 1,
   "metadata": {},
   "outputs": [],
   "source": [
    "# 문자열"
   ]
  },
  {
   "cell_type": "code",
   "execution_count": 1,
   "metadata": {},
   "outputs": [
    {
     "name": "stdout",
     "output_type": "stream",
     "text": [
      "A\n",
      "65\n"
     ]
    }
   ],
   "source": [
    "# 아스키 코드(11654)\n",
    "\n",
    "# ord(문자) : 아스키 코드 반환 / chr(숫자) : 숫자에 맞는 아스키 코드 반환\n",
    "\n",
    "a = input()\n",
    "\n",
    "print(ord(a))"
   ]
  },
  {
   "cell_type": "code",
   "execution_count": null,
   "metadata": {},
   "outputs": [],
   "source": [
    "# 숫자의 합\n",
    "\n",
    "n = int(input())\n",
    "\n",
    "input_data = list(input())\n",
    "\n",
    "result = 0\n",
    "\n",
    "for i in input_data:\n",
    "    result += input_data(i)\n",
    "\n",
    "print(result)"
   ]
  },
  {
   "cell_type": "code",
   "execution_count": null,
   "metadata": {},
   "outputs": [],
   "source": [
    "# 알파벳 찾기\n",
    "\n",
    "word = input()\n",
    "alphabet = list(range(ord('a'),ord('z')))\n",
    "\n",
    "for i in alphabet:\n",
    "    print(word.find(chr(i)), end='')"
   ]
  },
  {
   "cell_type": "code",
   "execution_count": null,
   "metadata": {},
   "outputs": [],
   "source": [
    "# 문자열 반복\n",
    "T = int(input()) #테스트 케이스\n",
    "\n",
    "for i in range(T):\n",
    "    r, s = input().split()\n",
    "    r = int(r)\n",
    "    s = str(s)\n",
    "    result = []\n",
    "\n",
    "    for i in range(r):\n",
    "        print(r*s[i], end='')\n",
    "\n",
    "print(result)"
   ]
  },
  {
   "cell_type": "code",
   "execution_count": null,
   "metadata": {},
   "outputs": [],
   "source": []
  },
  {
   "cell_type": "code",
   "execution_count": null,
   "metadata": {},
   "outputs": [],
   "source": []
  },
  {
   "cell_type": "code",
   "execution_count": null,
   "metadata": {},
   "outputs": [],
   "source": []
  },
  {
   "cell_type": "code",
   "execution_count": null,
   "metadata": {},
   "outputs": [],
   "source": []
  }
 ],
 "metadata": {
  "kernelspec": {
   "display_name": "Python 3",
   "language": "python",
   "name": "python3"
  },
  "language_info": {
   "codemirror_mode": {
    "name": "ipython",
    "version": 3
   },
   "file_extension": ".py",
   "mimetype": "text/x-python",
   "name": "python",
   "nbconvert_exporter": "python",
   "pygments_lexer": "ipython3",
   "version": "3.7.4"
  }
 },
 "nbformat": 4,
 "nbformat_minor": 2
}
