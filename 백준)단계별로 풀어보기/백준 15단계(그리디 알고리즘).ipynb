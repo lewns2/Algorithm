{
 "cells": [
  {
   "cell_type": "code",
   "execution_count": null,
   "metadata": {},
   "outputs": [],
   "source": [
    "# 동전 0(11047)\n",
    "\n",
    "n, k = map(int, input().split())\n",
    "a = []\n",
    "\n",
    "for i in range(n):\n",
    "    a.append(int(input()))\n",
    "    a.sort()\n",
    "    a.reverse()\n",
    "\n",
    "cnt = 0\n",
    "for i in a:\n",
    "    cnt += k//i\n",
    "    k %= i # k로 나눈 나머지를 다시 위로\n",
    "\n",
    "print(cnt)\n"
   ]
  },
  {
   "cell_type": "code",
   "execution_count": null,
   "metadata": {},
   "outputs": [],
   "source": [
    "# 회의실 배정(1931) - 틀린 답\n",
    "\n",
    "n = int(input())\n",
    "a = []\n",
    "for i in range(n):\n",
    "    start, end = list(map(str, input().split()))\n",
    "    time = [start, end]\n",
    "    a.append(time)\n",
    "\n",
    "a = sorted(a, key=lambda c: c[0])\n",
    "a = sorted(a, key=lambda c: c[1])\n",
    "\n",
    "cnt = 0\n",
    "print(a)\n",
    "for i,j in a:\n",
    "    j = 1\n",
    "    if i[1] > j[0]:\n",
    "        cnt += 1\n",
    "        j += 1\n",
    "\n",
    "print(cnt)\n"
   ]
  },
  {
   "cell_type": "code",
   "execution_count": null,
   "metadata": {},
   "outputs": [],
   "source": [
    "# ATM(11399)\n",
    "\n",
    "n = int(input())\n",
    "p = list(map(int, input().split()))\n",
    "\n",
    "p.sort()\n",
    "result = 0\n",
    "\n",
    "for i in range(len(p)):   \n",
    "    for j in range(i+1):  \n",
    "        result += p[j]\n",
    "\n",
    "print(result)\n",
    "\n",
    "# 12345 + 2345 + 345 + 45 +5"
   ]
  },
  {
   "cell_type": "code",
   "execution_count": null,
   "metadata": {},
   "outputs": [],
   "source": [
    "# 잃어버린 괄호(1541) - 다른 입력이 주어줘도 똑같나?\n",
    "\n",
    "arr = input().split('-')\n",
    "s = 0\n",
    "\n",
    "for i in arr[0].split('+'):\n",
    "    s += int(i)\n",
    "\n",
    "for i in arr[1:]:\n",
    "    for j in i.split('+'):\n",
    "        s -= int(j)\n",
    "\n",
    "print(s)"
   ]
  },
  {
   "cell_type": "code",
   "execution_count": null,
   "metadata": {},
   "outputs": [],
   "source": [
    "# 주유소(13305)\n",
    "\n",
    "n = int(input()) # city\n",
    "dis = list(map(int, input().split()))\n",
    "price = list(map(int, input().split())) # 리터당 가격\n",
    "\n",
    "total_price = 0\n",
    "\n",
    "h = price[0]\n",
    "for i in range(len(dis)):\n",
    "    if price[i] <= h:\n",
    "        h = price[i]\n",
    "    total_price += h*dis[i]\n",
    "\n",
    "print(total_price)"
   ]
  }
 ],
 "metadata": {
  "kernelspec": {
   "display_name": "Python 3",
   "language": "python",
   "name": "python3"
  },
  "language_info": {
   "codemirror_mode": {
    "name": "ipython",
    "version": 3
   },
   "file_extension": ".py",
   "mimetype": "text/x-python",
   "name": "python",
   "nbconvert_exporter": "python",
   "pygments_lexer": "ipython3",
   "version": "3.7.4"
  }
 },
 "nbformat": 4,
 "nbformat_minor": 2
}
